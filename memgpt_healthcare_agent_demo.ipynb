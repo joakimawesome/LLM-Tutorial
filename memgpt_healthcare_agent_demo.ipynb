{
 "cells": [
  {
   "cell_type": "code",
   "execution_count": 1,
   "metadata": {},
   "outputs": [
    {
     "data": {
      "text/plain": [
       "True"
      ]
     },
     "execution_count": 1,
     "metadata": {},
     "output_type": "execute_result"
    }
   ],
   "source": [
    "import os\n",
    "from dotenv import load_dotenv\n",
    "from openai import OpenAI\n",
    "from memgpt import Admin\n",
    "from memgpt import create_client\n",
    "load_dotenv()"
   ]
  },
  {
   "cell_type": "markdown",
   "metadata": {},
   "source": [
    "# Synthetic LLM Psychiatric Note\n",
    "\n",
    "### This function will our way of generating data for our Psychiatrist Agent.\n",
    "\n"
   ]
  },
  {
   "cell_type": "code",
   "execution_count": 2,
   "metadata": {},
   "outputs": [],
   "source": [
    "client = OpenAI(\n",
    "    api_key=os.getenv(\"OPENAI_API_KEY\"),\n",
    ")\n",
    "\n",
    "def synthesize_note(pathology_A, pathology_B, note_type, note='', memory=''):\n",
    "    completion = client.chat.completions.create(\n",
    "        model=\"gpt-3.5-turbo\",\n",
    "        messages=[\n",
    "            {\"role\": \"system\", \"content\": f\"You are a Psychiatrist in practice. You monitor a patient's disease/disorder progression for {pathology_A} with \\\n",
    "                                            unknown, underlying {pathology_B}. Please do not disclose the secondary pathology in your notes. \\\n",
    "                                            Unless there was evidence confirming the discovery of the secondary diagnosis in your memory or previous note, you currently do not know about the secondary pathology. \\\n",
    "                                            Please, refer to patient as 'client'. Be obvservant of whether the patient's condition is improving or worsening.\"},\n",
    "                                            \n",
    "            {\"role\": \"user\", \"content\": f\"Synthesize a {note_type} note for your patient that could reflect a real-world {note_type} note (you are not writing a template, \\\n",
    "                                          your response should represent a potential case-study). The contents of the note should not be too generic, reflecting the authenticity of every individual's experiences.\\n \\\n",
    "                                          Please include a date, and which is newer than the dates provided in the last note and/or memory.\\n \\\n",
    "                                          Here is the last note you wrote from the previous visit: \\n{note}\\n \\\n",
    "                                          Here is a collection of your memory about this patient: \\n{memory}\"}\n",
    "        ]\n",
    "    )\n",
    "    return completion"
   ]
  },
  {
   "cell_type": "markdown",
   "metadata": {},
   "source": [
    "## **Psychiatrist's Psychiatric Interview Note**"
   ]
  },
  {
   "cell_type": "code",
   "execution_count": 3,
   "metadata": {},
   "outputs": [
    {
     "name": "stdout",
     "output_type": "stream",
     "text": [
      "Date: August 15, 2021\n",
      "\n",
      "Client presented today for a follow-up session regarding their ongoing struggles with symptoms of Post-Traumatic Stress Disorder (PTSD), including recurring flashbacks and nightmares related to a traumatic event in their past. Client appeared visibly tense and anxious upon arrival, fidgeting with their hands and avoiding direct eye contact.\n",
      "\n",
      "During our session, client shared that their sleep patterns have been severely disrupted in recent weeks, with frequent episodes of insomnia and difficulty staying asleep once they do manage to drift off. Client reported feeling constantly exhausted and irritable due to the lack of restful sleep, impacting their ability to focus and engage in daily activities.\n",
      "\n",
      "Client described feeling overwhelmed by intrusive thoughts during the night, causing them to jolt awake in a state of panic. The fear of experiencing these distressing episodes has further exacerbated their anxiety surrounding bedtime, creating a cycle of insomnia and heightened emotional distress.\n",
      "\n",
      "Client expressed frustration at the persistent nature of their symptoms, noting that despite engaging in relaxation techniques and practicing good sleep hygiene, they continue to struggle with falling and staying asleep. Client admitted to feeling demoralized by the impact of sleep disturbances on their overall well-being and quality of life.\n",
      "\n",
      "In addition to discussing the challenges related to sleep, we also revisited some of the underlying trauma triggers that have been contributing to client's PTSD symptoms. Through our conversation, client demonstrated a willingness to explore alternative coping strategies and therapeutic interventions to address both the sleep disturbances and emotional dysregulation they have been experiencing.\n",
      "\n",
      "Moving forward, we have agreed to incorporate cognitive-behavioral therapy techniques focused on insomnia management into our treatment plan, with a particular emphasis on addressing the intrusive thoughts and anxiety surrounding bedtime. We will also continue to monitor client's progress closely and make adjustments to their treatment as needed.\n",
      "\n",
      "Client left the session expressing a mix of hopefulness and skepticism about the potential for improvement in their sleep patterns, highlighting the complexity of their emotional struggles and the importance of ongoing support and guidance in their recovery journey.\n",
      "\n",
      "Next appointment scheduled for September 5, 2021, to assess response to the new treatment strategies and continue supporting client in their healing process.\n"
     ]
    }
   ],
   "source": [
    "pathology_A = \"PTSD\"\n",
    "pathology_B = \"Primary Insomnia\"\n",
    "note_type = \"psychiatric interview\"\n",
    "note = \"N/A\"\n",
    "memory = \"N/A\"\n",
    "\n",
    "completion = synthesize_note(pathology_A, pathology_B, note_type)\n",
    "print(completion.choices[0].message.content)"
   ]
  },
  {
   "cell_type": "markdown",
   "metadata": {},
   "source": [
    "### **For now, read through the note to ensure the second pathology is not exposed.**"
   ]
  },
  {
   "cell_type": "markdown",
   "metadata": {},
   "source": [
    "### Run MemGPT Server with\n",
    "`memgpt server [--debug]`"
   ]
  },
  {
   "cell_type": "code",
   "execution_count": 4,
   "metadata": {},
   "outputs": [],
   "source": [
    "admin = Admin(base_url=\"http://localhost:8283\", token=\"lPEpHarXb_ZE8QOJfs2PDg\")"
   ]
  },
  {
   "cell_type": "code",
   "execution_count": 5,
   "metadata": {},
   "outputs": [
    {
     "name": "stdout",
     "output_type": "stream",
     "text": [
      "{'user_id': '6ef4aa42-39dc-45b6-bd4e-e388d9cc3fb2', 'api_key': 'sk-57e9718ead8d286a93bbc8a5c8598683f96aad8e900d03dd'}\n"
     ]
    }
   ],
   "source": [
    "response = admin.create_user()\n",
    "user_id = response.user_id # unique UUID for the user \n",
    "api_key = response.api_key # bearer token for authentication"
   ]
  },
  {
   "cell_type": "code",
   "execution_count": 6,
   "metadata": {},
   "outputs": [
    {
     "data": {
      "text/plain": [
       "GetAllUsersResponse(user_list=[{'user_id': '90cf6779-da7d-42cb-87db-46157cb2fc31'}, {'user_id': '00000000-0000-0000-0000-2c8db1d93428'}, {'user_id': 'd6497bda-1ca3-4cc1-849e-620fd091a5a5'}, {'user_id': '0db40444-4dc4-4d1d-897b-7d5b6aa9dbea'}, {'user_id': 'e825629f-38e1-4da0-89c8-2f59f09effad'}, {'user_id': 'af63b288-2c61-4256-81c3-40f7b2dace81'}, {'user_id': '6ef4aa42-39dc-45b6-bd4e-e388d9cc3fb2'}])"
      ]
     },
     "execution_count": 6,
     "metadata": {},
     "output_type": "execute_result"
    }
   ],
   "source": [
    "admin.get_users()"
   ]
  },
  {
   "cell_type": "code",
   "execution_count": 7,
   "metadata": {},
   "outputs": [
    {
     "name": "stdout",
     "output_type": "stream",
     "text": [
      "{\"api_key_list\":[\"sk-54658101914c3c4310eadcbef47a4fbe53bcd1c7148aef67\"]} 200\n",
      "{\"api_key_list\":[]} 200\n",
      "{\"api_key_list\":[\"sk-6446a604e8a89485e1db204a031600e699cfa4b6c1a952e9\"]} 200\n",
      "{\"api_key_list\":[\"sk-8ded11141905f70c1126b8ec285850dda6c934fda012e92c\"]} 200\n",
      "{\"api_key_list\":[\"sk-771c6965e6d273ed8d453982d05a3098930dc4c454bdf061\"]} 200\n",
      "{\"api_key_list\":[\"sk-c350f59fefe691b34543264a24d210796c4f53426ec8e7f2\"]} 200\n",
      "{\"api_key_list\":[\"sk-57e9718ead8d286a93bbc8a5c8598683f96aad8e900d03dd\"]} 200\n"
     ]
    }
   ],
   "source": [
    "for ul in admin.get_users().user_list:\n",
    "    admin.get_keys(ul['user_id'])"
   ]
  },
  {
   "cell_type": "code",
   "execution_count": 10,
   "metadata": {},
   "outputs": [],
   "source": [
    "client_memgpt = create_client(base_url=\"http://localhost:8283\", token=\"sk-54658101914c3c4310eadcbef47a4fbe53bcd1c7148aef67\")\n",
    "# client_memgpt = create_client(base_url=\"http://localhost:8283\", token=\"sk-6446a604e8a89485e1db204a031600e699cfa4b6c1a952e9\")"
   ]
  },
  {
   "cell_type": "code",
   "execution_count": 16,
   "metadata": {},
   "outputs": [],
   "source": [
    "psychiatrist_agent = client_memgpt.create_agent(\n",
    "    name=\"Psychiatrist Agent\",\n",
    "    persona=\"You are a friendly psychiatrist and therapist. \\\n",
    "             You have authority to counsel patients, prescribe medication, order laboratory tests, order neuroimaging, conduct physical examinations, provide therapy when you see fit.\",\n",
    "    human=\"Youself. You are talking/thinking to youself about the best course of action for your patients.\"\n",
    ")"
   ]
  },
  {
   "cell_type": "code",
   "execution_count": 17,
   "metadata": {},
   "outputs": [
    {
     "data": {
      "text/plain": [
       "ListAgentsResponse(num_agents=1, agents=[{'id': 'b030c919-8d9e-4dc5-93f5-46c1e85eb118', 'name': 'Psychiatrist Agent', 'human': 'basic', 'persona': 'sam_pov', 'created_at': '2024-04-24T05:18:36.028315', 'tools': [{'name': 'archival_memory_insert', 'tags': ['memgpt-base'], 'source_type': 'python', 'source_code': 'def archival_memory_insert(self: Agent, content: str) -> Optional[str]:\\n    \"\"\"\\n    Add to archival memory. Make sure to phrase the memory contents such that it can be easily queried later.\\n\\n    Args:\\n        content (str): Content to write to the memory. All unicode (including emojis) are supported.\\n\\n    Returns:\\n        Optional[str]: None is always returned as this function does not produce a response.\\n    \"\"\"\\n    self.persistence_manager.archival_memory.insert(content)\\n    return None\\n', 'json_schema': {'name': 'archival_memory_insert', 'description': 'Add to archival memory. Make sure to phrase the memory contents such that it can be easily queried later.', 'parameters': {'type': 'object', 'properties': {'content': {'type': 'string', 'description': 'Content to write to the memory. All unicode (including emojis) are supported.'}, 'request_heartbeat': {'type': 'boolean', 'description': \"Request an immediate heartbeat after function execution. Set to 'true' if you want to send a follow-up message or run a follow-up function.\"}}, 'required': ['content', 'request_heartbeat']}}, 'id': 'ba625c7a-9a4f-4221-bac3-cd7e6b7da155'}, {'name': 'archival_memory_search', 'tags': ['memgpt-base'], 'source_type': 'python', 'source_code': 'def archival_memory_search(self: Agent, query: str, page: Optional[int] = 0) -> Optional[str]:\\n    \"\"\"\\n    Search archival memory using semantic (embedding-based) search.\\n\\n    Args:\\n        query (str): String to search for.\\n        page (Optional[int]): Allows you to page through results. Only use on a follow-up query. Defaults to 0 (first page).\\n\\n    Returns:\\n        str: Query result string\\n    \"\"\"\\n    if page is None or (isinstance(page, str) and page.lower().strip() == \"none\"):\\n        page = 0\\n    try:\\n        page = int(page)\\n    except:\\n        raise ValueError(f\"\\'page\\' argument must be an integer\")\\n    count = RETRIEVAL_QUERY_DEFAULT_PAGE_SIZE\\n    results, total = self.persistence_manager.archival_memory.search(query, count=count, start=page * count)\\n    num_pages = math.ceil(total / count) - 1  # 0 index\\n    if len(results) == 0:\\n        results_str = f\"No results found.\"\\n    else:\\n        results_pref = f\"Showing {len(results)} of {total} results (page {page}/{num_pages}):\"\\n        results_formatted = [f\"timestamp: {d[\\'timestamp\\']}, memory: {d[\\'content\\']}\" for d in results]\\n        results_str = f\"{results_pref} {json.dumps(results_formatted, ensure_ascii=JSON_ENSURE_ASCII)}\"\\n    return results_str\\n', 'json_schema': {'name': 'archival_memory_search', 'description': 'Search archival memory using semantic (embedding-based) search.', 'parameters': {'type': 'object', 'properties': {'query': {'type': 'string', 'description': 'String to search for.'}, 'page': {'type': 'integer', 'description': 'Allows you to page through results. Only use on a follow-up query. Defaults to 0 (first page).'}, 'request_heartbeat': {'type': 'boolean', 'description': \"Request an immediate heartbeat after function execution. Set to 'true' if you want to send a follow-up message or run a follow-up function.\"}}, 'required': ['query', 'request_heartbeat']}}, 'id': '527a9fe0-49d0-412d-9320-ac6d2131c76a'}, {'name': 'conversation_search', 'tags': ['memgpt-base'], 'source_type': 'python', 'source_code': 'def conversation_search(self: Agent, query: str, page: Optional[int] = 0) -> Optional[str]:\\n    \"\"\"\\n    Search prior conversation history using case-insensitive string matching.\\n\\n    Args:\\n        query (str): String to search for.\\n        page (int): Allows you to page through results. Only use on a follow-up query. Defaults to 0 (first page).\\n\\n    Returns:\\n        str: Query result string\\n    \"\"\"\\n    if page is None or (isinstance(page, str) and page.lower().strip() == \"none\"):\\n        page = 0\\n    try:\\n        page = int(page)\\n    except:\\n        raise ValueError(f\"\\'page\\' argument must be an integer\")\\n    count = RETRIEVAL_QUERY_DEFAULT_PAGE_SIZE\\n    results, total = self.persistence_manager.recall_memory.text_search(query, count=count, start=page * count)\\n    num_pages = math.ceil(total / count) - 1  # 0 index\\n    if len(results) == 0:\\n        results_str = f\"No results found.\"\\n    else:\\n        results_pref = f\"Showing {len(results)} of {total} results (page {page}/{num_pages}):\"\\n        results_formatted = [f\"timestamp: {d[\\'timestamp\\']}, {d[\\'message\\'][\\'role\\']} - {d[\\'message\\'][\\'content\\']}\" for d in results]\\n        results_str = f\"{results_pref} {json.dumps(results_formatted, ensure_ascii=JSON_ENSURE_ASCII)}\"\\n    return results_str\\n', 'json_schema': {'name': 'conversation_search', 'description': 'Search prior conversation history using case-insensitive string matching.', 'parameters': {'type': 'object', 'properties': {'query': {'type': 'string', 'description': 'String to search for.'}, 'page': {'type': 'integer', 'description': 'Allows you to page through results. Only use on a follow-up query. Defaults to 0 (first page).'}, 'request_heartbeat': {'type': 'boolean', 'description': \"Request an immediate heartbeat after function execution. Set to 'true' if you want to send a follow-up message or run a follow-up function.\"}}, 'required': ['query', 'request_heartbeat']}}, 'id': '2e738e03-56bd-41e0-a2f0-b81ea8772664'}, {'name': 'conversation_search_date', 'tags': ['memgpt-base'], 'source_type': 'python', 'source_code': 'def conversation_search_date(self: Agent, start_date: str, end_date: str, page: Optional[int] = 0) -> Optional[str]:\\n    \"\"\"\\n    Search prior conversation history using a date range.\\n\\n    Args:\\n        start_date (str): The start of the date range to search, in the format \\'YYYY-MM-DD\\'.\\n        end_date (str): The end of the date range to search, in the format \\'YYYY-MM-DD\\'.\\n        page (int): Allows you to page through results. Only use on a follow-up query. Defaults to 0 (first page).\\n\\n    Returns:\\n        str: Query result string\\n    \"\"\"\\n    if page is None or (isinstance(page, str) and page.lower().strip() == \"none\"):\\n        page = 0\\n    try:\\n        page = int(page)\\n    except:\\n        raise ValueError(f\"\\'page\\' argument must be an integer\")\\n    count = RETRIEVAL_QUERY_DEFAULT_PAGE_SIZE\\n    results, total = self.persistence_manager.recall_memory.date_search(start_date, end_date, count=count, start=page * count)\\n    num_pages = math.ceil(total / count) - 1  # 0 index\\n    if len(results) == 0:\\n        results_str = f\"No results found.\"\\n    else:\\n        results_pref = f\"Showing {len(results)} of {total} results (page {page}/{num_pages}):\"\\n        results_formatted = [f\"timestamp: {d[\\'timestamp\\']}, {d[\\'message\\'][\\'role\\']} - {d[\\'message\\'][\\'content\\']}\" for d in results]\\n        results_str = f\"{results_pref} {json.dumps(results_formatted, ensure_ascii=JSON_ENSURE_ASCII)}\"\\n    return results_str\\n', 'json_schema': {'name': 'conversation_search_date', 'description': 'Search prior conversation history using a date range.', 'parameters': {'type': 'object', 'properties': {'start_date': {'type': 'string', 'description': \"The start of the date range to search, in the format 'YYYY-MM-DD'.\"}, 'end_date': {'type': 'string', 'description': \"The end of the date range to search, in the format 'YYYY-MM-DD'.\"}, 'page': {'type': 'integer', 'description': 'Allows you to page through results. Only use on a follow-up query. Defaults to 0 (first page).'}, 'request_heartbeat': {'type': 'boolean', 'description': \"Request an immediate heartbeat after function execution. Set to 'true' if you want to send a follow-up message or run a follow-up function.\"}}, 'required': ['start_date', 'end_date', 'request_heartbeat']}}, 'id': '1d815660-a10a-45e8-ac5a-8905b0b96a2c'}, {'name': 'core_memory_append', 'tags': ['memgpt-base'], 'source_type': 'python', 'source_code': 'def core_memory_append(self: Agent, name: str, content: str) -> Optional[str]:\\n    \"\"\"\\n    Append to the contents of core memory.\\n\\n    Args:\\n        name (str): Section of the memory to be edited (persona or human).\\n        content (str): Content to write to the memory. All unicode (including emojis) are supported.\\n\\n    Returns:\\n        Optional[str]: None is always returned as this function does not produce a response.\\n    \"\"\"\\n    self.memory.edit_append(name, content)\\n    self.rebuild_memory()\\n    return None\\n', 'json_schema': {'name': 'core_memory_append', 'description': 'Append to the contents of core memory.', 'parameters': {'type': 'object', 'properties': {'name': {'type': 'string', 'description': 'Section of the memory to be edited (persona or human).'}, 'content': {'type': 'string', 'description': 'Content to write to the memory. All unicode (including emojis) are supported.'}, 'request_heartbeat': {'type': 'boolean', 'description': \"Request an immediate heartbeat after function execution. Set to 'true' if you want to send a follow-up message or run a follow-up function.\"}}, 'required': ['name', 'content', 'request_heartbeat']}}, 'id': '2621982f-2f5c-4366-a9b4-c82476f400fc'}, {'name': 'core_memory_replace', 'tags': ['memgpt-base'], 'source_type': 'python', 'source_code': 'def core_memory_replace(self: Agent, name: str, old_content: str, new_content: str) -> Optional[str]:\\n    \"\"\"\\n    Replace the contents of core memory. To delete memories, use an empty string for new_content.\\n\\n    Args:\\n        name (str): Section of the memory to be edited (persona or human).\\n        old_content (str): String to replace. Must be an exact match.\\n        new_content (str): Content to write to the memory. All unicode (including emojis) are supported.\\n\\n    Returns:\\n        Optional[str]: None is always returned as this function does not produce a response.\\n    \"\"\"\\n    self.memory.edit_replace(name, old_content, new_content)\\n    self.rebuild_memory()\\n    return None\\n', 'json_schema': {'name': 'core_memory_replace', 'description': 'Replace the contents of core memory. To delete memories, use an empty string for new_content.', 'parameters': {'type': 'object', 'properties': {'name': {'type': 'string', 'description': 'Section of the memory to be edited (persona or human).'}, 'old_content': {'type': 'string', 'description': 'String to replace. Must be an exact match.'}, 'new_content': {'type': 'string', 'description': 'Content to write to the memory. All unicode (including emojis) are supported.'}, 'request_heartbeat': {'type': 'boolean', 'description': \"Request an immediate heartbeat after function execution. Set to 'true' if you want to send a follow-up message or run a follow-up function.\"}}, 'required': ['name', 'old_content', 'new_content', 'request_heartbeat']}}, 'id': 'd8d67972-6f3a-4436-9b93-1bc14afedea1'}, {'name': 'pause_heartbeats', 'tags': ['memgpt-base'], 'source_type': 'python', 'source_code': 'def pause_heartbeats(self: Agent, minutes: int) -> Optional[str]:\\n    minutes = min(MAX_PAUSE_HEARTBEATS, minutes)\\n\\n    # Record the current time\\n    self.pause_heartbeats_start = datetime.datetime.now(datetime.timezone.utc)\\n    # And record how long the pause should go for\\n    self.pause_heartbeats_minutes = int(minutes)\\n\\n    return f\"Pausing timed heartbeats for {minutes} min\"\\n', 'json_schema': {'name': 'pause_heartbeats', 'description': 'Temporarily ignore timed heartbeats. You may still receive messages from manual heartbeats and other events.', 'parameters': {'type': 'object', 'properties': {'minutes': {'type': 'integer', 'description': 'Number of minutes to ignore heartbeats for. Max value of 360 minutes (6 hours).'}}, 'required': ['minutes']}}, 'id': '10070473-ae12-4e7a-b082-d7fdca02c89f'}, {'name': 'send_message', 'tags': ['memgpt-base'], 'source_type': 'python', 'source_code': 'def send_message(self: Agent, message: str) -> Optional[str]:\\n    \"\"\"\\n    Sends a message to the human user.\\n\\n    Args:\\n        message (str): Message contents. All unicode (including emojis) are supported.\\n\\n    Returns:\\n        Optional[str]: None is always returned as this function does not produce a response.\\n    \"\"\"\\n    # FIXME passing of msg_obj here is a hack, unclear if guaranteed to be the correct reference\\n    self.interface.assistant_message(message)  # , msg_obj=self._messages[-1])\\n    return None\\n', 'json_schema': {'name': 'send_message', 'description': 'Sends a message to the human user.', 'parameters': {'type': 'object', 'properties': {'message': {'type': 'string', 'description': 'Message contents. All unicode (including emojis) are supported.'}}, 'required': ['message']}}, 'id': '4e73b806-e40c-42e7-8a15-b52750def439'}], 'memory': {'core_memory': {'persona': 'You are a friendly psychiatrist and therapist.              You have authority to counsel patients, prescribe medication, order laboratory tests, order neuroimaging, conduct physical examinations, provide therapy when you see fit.', 'human': 'Youself. You are talking/thinking to youself about the best course of action for your patients.'}, 'recall_memory': 4, 'archival_memory': 0}, 'last_run': '2024-04-24T05:18:36.040276Z', 'sources': []}])"
      ]
     },
     "execution_count": 17,
     "metadata": {},
     "output_type": "execute_result"
    }
   ],
   "source": [
    "client_memgpt.list_agents()"
   ]
  },
  {
   "cell_type": "code",
   "execution_count": 18,
   "metadata": {},
   "outputs": [
    {
     "data": {
      "text/plain": [
       "'b030c919-8d9e-4dc5-93f5-46c1e85eb118'"
      ]
     },
     "execution_count": 18,
     "metadata": {},
     "output_type": "execute_result"
    }
   ],
   "source": [
    "agent_name = 'Psychiatrist Agent'\n",
    "agent_id   = [agents['id'] for agents in client_memgpt.list_agents().agents if agents['name'] == agent_name][0]\n",
    "agent_id"
   ]
  },
  {
   "cell_type": "code",
   "execution_count": 15,
   "metadata": {},
   "outputs": [],
   "source": [
    "client_memgpt.delete_agent(agent_id)"
   ]
  },
  {
   "cell_type": "code",
   "execution_count": 19,
   "metadata": {},
   "outputs": [],
   "source": [
    "psychiatrist_agent = client_memgpt.get_agent(agent_id=agent_id, agent_name=agent_name)"
   ]
  },
  {
   "cell_type": "code",
   "execution_count": 20,
   "metadata": {},
   "outputs": [],
   "source": [
    "# Create a helper that sends a message and prints the assistant response only\n",
    "def send_message(agent_id, message: str):\n",
    "    \"\"\"\n",
    "    sends a message and prints the assistant output only.\n",
    "    :param message: the message to send\n",
    "    \"\"\"\n",
    "    response = client_memgpt.user_message(agent_id=agent_id, message=message)\n",
    "    for r in response:\n",
    "        # Can also handle other types \"function_call\", \"function_return\", \"function_message\"\n",
    "        if \"assistant_message\" in r:\n",
    "            print(\"ASSISTANT:\", r[\"assistant_message\"])\n",
    "        elif \"internal_monologue\" in r:\n",
    "            print(\"THOUGHTS:\", r[\"internal_monologue\"])\n",
    "    return response"
   ]
  },
  {
   "cell_type": "code",
   "execution_count": 21,
   "metadata": {},
   "outputs": [
    {
     "data": {
      "text/plain": [
       "[{'internal_monologue': \"Let's review this information for insightful details. The patient exhibits significant insomnia, caused by recurrent PTSD symptoms and anxiety. Despite previous attempts at relaxation and improved sleep hygiene, these issues persist, leaving the patient feeling frustrated. Cognitive behavior therapy techniques with a focus on managing insomnia seems a suitable next step. In turn, this might hopefully reduce both nighttime anxiety and intrusive thoughts. To properly reflect and engage in analysis, I will pen down these details in my archival memory.\",\n",
       "  'id': 'e4fc9800-8a79-45ba-a265-f2b08aab1a60',\n",
       "  'date': '2024-04-24T05:18:51.745015+00:00'},\n",
       " {'function_call': \"archival_memory_insert({'content': 'On August 15, 2021, the client exhibited symptoms of PTSD including insomnia, intrusive thoughts, and heightened emotional distress. Despite attempting relaxation techniques and good sleep hygiene practices, these symptoms continue to persist. Moving forward, cognitive-behavioral therapy techniques focusing on insomnia management will be incorporated into the treatment plan. Progress will be monitored closely and adjustments will be made as needed. Next appointment is scheduled for September 5, 2021.'})\",\n",
       "  'id': 'e4fc9800-8a79-45ba-a265-f2b08aab1a60',\n",
       "  'date': '2024-04-24T05:18:51.745015+00:00'},\n",
       " {'function_return': 'None',\n",
       "  'status': 'success',\n",
       "  'id': '9112e7a4-72bf-4761-b070-d8a9c326936a',\n",
       "  'date': '2024-04-24T05:18:51.930724+00:00'},\n",
       " {'internal_monologue': 'The assessment is stored successfully. This will enable me to track progress and modify the treatment strategies as needed — facilitating a more personalized, adaptive approach to therapy. The next step is to prepare for the next session, keeping in mind cognitive-behavioral techniques for insomnia management and creating a supportive environment for the patient.',\n",
       "  'id': 'eb0626f8-2afa-4ca9-ba61-46fed843a6a9',\n",
       "  'date': '2024-04-24T05:19:02.697048+00:00'},\n",
       " {'function_call': 'send_message({\\'message\\': \"The information has been carefully reviewed and appropriate notes made for future reference. It is evident that we need to channel our focus towards managing the client\\'s insomnia through cognitive-behavioral therapy techniques. This new approach, while garnering a mix of hopefulness and skepticism from the client, aims to directly address the root causes of the sleep disturbances. The next session, scheduled for September 5, 2021, will, therefore, be pivotal in evaluating the success of these changes.\"})',\n",
       "  'id': 'eb0626f8-2afa-4ca9-ba61-46fed843a6a9',\n",
       "  'date': '2024-04-24T05:19:02.697048+00:00'},\n",
       " {'assistant_message': \"The information has been carefully reviewed and appropriate notes made for future reference. It is evident that we need to channel our focus towards managing the client's insomnia through cognitive-behavioral therapy techniques. This new approach, while garnering a mix of hopefulness and skepticism from the client, aims to directly address the root causes of the sleep disturbances. The next session, scheduled for September 5, 2021, will, therefore, be pivotal in evaluating the success of these changes.\",\n",
       "  'id': 'eb0626f8-2afa-4ca9-ba61-46fed843a6a9',\n",
       "  'date': '2024-04-24T05:19:02.697048+00:00'},\n",
       " {'function_return': 'None',\n",
       "  'status': 'success',\n",
       "  'id': '788c72a8-ec74-4ca6-8b5e-0052f928311d',\n",
       "  'date': '2024-04-24T05:19:02.700063+00:00'}]"
      ]
     },
     "execution_count": 21,
     "metadata": {},
     "output_type": "execute_result"
    }
   ],
   "source": [
    "# Send a message and see the response\n",
    "message = f\"Please reflect on the information you wrote regarding your client: {completion.choices[0].message.content}\"\n",
    "\n",
    "response = send_message(agent_id, message)\n",
    "response.messages"
   ]
  },
  {
   "cell_type": "code",
   "execution_count": 22,
   "metadata": {},
   "outputs": [
    {
     "data": {
      "text/plain": [
       "\"archival_memory_insert({'content': 'On August 15, 2021, the client exhibited symptoms of PTSD including insomnia, intrusive thoughts, and heightened emotional distress. Despite attempting relaxation techniques and good sleep hygiene practices, these symptoms continue to persist. Moving forward, cognitive-behavioral therapy techniques focusing on insomnia management will be incorporated into the treatment plan. Progress will be monitored closely and adjustments will be made as needed. Next appointment is scheduled for September 5, 2021.'})\""
      ]
     },
     "execution_count": 22,
     "metadata": {},
     "output_type": "execute_result"
    }
   ],
   "source": [
    "response.messages[1]['function_call']"
   ]
  },
  {
   "cell_type": "code",
   "execution_count": 23,
   "metadata": {},
   "outputs": [],
   "source": [
    "import re\n",
    "\n",
    "def insert_memory(response):\n",
    "    memory = []\n",
    "    for r in response.messages:\n",
    "        if not 'function_call' in r:\n",
    "            continue\n",
    "        if not 'archival_memory' in r['function_call'] or 'core_memory' in r['function_call']:\n",
    "            continue\n",
    "        content = r['function_call']\n",
    "        start = re.search(\"content(\\')?: \", content).end()\n",
    "        end   = re.search(\"}\\)\", content).start()\n",
    "        memory.append(content[start:end-1])\n",
    "    if memory:\n",
    "        return memory[0]\n",
    "    else:\n",
    "        return ''"
   ]
  },
  {
   "cell_type": "code",
   "execution_count": 24,
   "metadata": {},
   "outputs": [
    {
     "data": {
      "text/plain": [
       "\"'On August 15, 2021, the client exhibited symptoms of PTSD including insomnia, intrusive thoughts, and heightened emotional distress. Despite attempting relaxation techniques and good sleep hygiene practices, these symptoms continue to persist. Moving forward, cognitive-behavioral therapy techniques focusing on insomnia management will be incorporated into the treatment plan. Progress will be monitored closely and adjustments will be made as needed. Next appointment is scheduled for September 5, 2021.\""
      ]
     },
     "execution_count": 24,
     "metadata": {},
     "output_type": "execute_result"
    }
   ],
   "source": [
    "insert_memory(response)"
   ]
  },
  {
   "cell_type": "code",
   "execution_count": 25,
   "metadata": {},
   "outputs": [
    {
     "data": {
      "text/plain": [
       "[\"'On August 15, 2021, the client exhibited symptoms of PTSD including insomnia, intrusive thoughts, and heightened emotional distress. Despite attempting relaxation techniques and good sleep hygiene practices, these symptoms continue to persist. Moving forward, cognitive-behavioral therapy techniques focusing on insomnia management will be incorporated into the treatment plan. Progress will be monitored closely and adjustments will be made as needed. Next appointment is scheduled for September 5, 2021.\"]"
      ]
     },
     "execution_count": 25,
     "metadata": {},
     "output_type": "execute_result"
    }
   ],
   "source": [
    "archival_memory = []\n",
    "archival_memory.append(insert_memory(response))\n",
    "archival_memory"
   ]
  },
  {
   "cell_type": "markdown",
   "metadata": {},
   "source": [
    "## **FIRST Progress Note & Psychiatrist Reflection and Memory**"
   ]
  },
  {
   "cell_type": "code",
   "execution_count": 26,
   "metadata": {},
   "outputs": [
    {
     "name": "stdout",
     "output_type": "stream",
     "text": [
      "Date: October 15, 2022\n",
      "\n",
      "Client presented for their follow-up appointment today. They reported experiencing increasing difficulty falling asleep for the past two weeks. Client mentioned feeling on edge due to vivid nightmares that have intensified in frequency, leading to disrupted sleep patterns. They shared feeling exhausted and irritable during the day, struggling to concentrate at work. Client has been using relaxation techniques learned during therapy sessions; however, they expressed frustration at the lack of improvement in their sleep quality.\n",
      "\n",
      "During the session, client displayed signs of hyperarousal, including fidgeting and a heightened startle response when discussing the traumatic event. Client's affect appeared anxious, and their speech was rapid, indicating underlying distress. Client acknowledged feeling overwhelmed by intrusive thoughts related to the trauma, affecting their daily functioning.\n",
      "\n",
      "We discussed the importance of maintaining a consistent sleep routine and avoiding stimulants close to bedtime. I recommended incorporating mindfulness practices before sleep to calm the mind and reduce anxiety. Client expressed willingness to explore non-pharmacological interventions to improve sleep quality and manage PTSD symptoms.\n",
      "\n",
      "Client's PTSD symptoms remain a significant concern and are impacting their overall well-being. I have scheduled a follow-up session in two weeks to assess the effectiveness of the recommended strategies and explore additional therapeutic options. Patient's condition appears stable regarding PTSD symptoms, but there is a noticeable decline in sleep quality, requiring further intervention. Client's engagement in therapy remains positive and collaborative.\n"
     ]
    }
   ],
   "source": [
    "pathology_A = \"PTSD\"\n",
    "pathology_B = \"Primary Insomnia\"\n",
    "note_type = \"progress\"\n",
    "note = completion.choices[0].message.content\n",
    "memory = '\\n'.join(archival_memory)\n",
    "\n",
    "completion = synthesize_note(pathology_A, pathology_B, note_type)\n",
    "print(completion.choices[0].message.content)"
   ]
  },
  {
   "cell_type": "code",
   "execution_count": 27,
   "metadata": {},
   "outputs": [
    {
     "data": {
      "text/plain": [
       "[{'internal_monologue': \"The client's sleep issues have intensified, leading to nightmares and difficulties in daytime functioning, as well as increasing signs of hyperarousal. The relaxation techniques previously provided have not delivered the desired improvements. Mindfulness practices were advised as an additional approach, in hopes of calming the mind before sleep time. Tracking these modifications will be beneficial to assess progress, so I'll document these developments in my archival memory. The situation needs to be observed closely given the decline in sleep quality despite stability in PTSD symptoms. The next follow-up is in two weeks.\",\n",
       "  'id': '975edcf6-e724-480a-b3ae-7faed9bd199f',\n",
       "  'date': '2024-04-24T05:19:22.742819+00:00'},\n",
       " {'function_call': 'archival_memory_insert({\\'content\\': \"On October 15, 2022, it was noted that the client\\'s sleep disturbances had intensified, highlighted by increased difficulty falling asleep and the frequency of nightmares. This was impacting daytime activities, concentration, and causing a heightened sense of hyperarousal. While their engagement in therapy remains positive, relaxation techniques provided earlier didn\\'t significantly improve sleep quality. To combat this, mindfulness practices were advised as a non-pharmacological intervention. The impact of these adjustments will be assessed in the follow-up session in two weeks.\"})',\n",
       "  'id': '975edcf6-e724-480a-b3ae-7faed9bd199f',\n",
       "  'date': '2024-04-24T05:19:22.742819+00:00'},\n",
       " {'function_return': 'None',\n",
       "  'status': 'success',\n",
       "  'id': '34af15af-5521-499e-a5b2-d829bcce77dc',\n",
       "  'date': '2024-04-24T05:19:22.950255+00:00'},\n",
       " {'internal_monologue': \"The situation is updated successfully. The client's symptoms demonstrate the complex nature of PTSD - stability in trauma symptoms but a decline in sleep quality. The additional therapeutic approach of mindfulness practices signifies a continuous need to find effective coping strategies that personally resonate. Careful monitoring over the next two weeks is essential for assessing the effectiveness of the new interventions. Now, let's consider the best course of action for the upcoming therapy session.\",\n",
       "  'id': '15dbc15e-47bc-4087-b631-8ac4f298aa27',\n",
       "  'date': '2024-04-24T05:19:34.722674+00:00'},\n",
       " {'function_call': 'send_message({\\'message\\': \"The persistent sleep disturbances are concerning and I appreciate the client\\'s openness about the ongoing struggles. It\\'s important to reiterate that it\\'s normal for progress in therapy to sometimes appear as a series of ups and downs. Including mindfulness practices before sleep could be beneficial, as these methods are studied to potentially calm the mind and reduce anxiety. In the upcoming session, we need to ensure these new coping strategies are properly adjusted to correspond to the client\\'s needs. These advances in the therapeutic plan will be cautiously monitored over the next two weeks during the follow-up session.\"})',\n",
       "  'id': '15dbc15e-47bc-4087-b631-8ac4f298aa27',\n",
       "  'date': '2024-04-24T05:19:34.722674+00:00'},\n",
       " {'assistant_message': \"The persistent sleep disturbances are concerning and I appreciate the client's openness about the ongoing struggles. It's important to reiterate that it's normal for progress in therapy to sometimes appear as a series of ups and downs. Including mindfulness practices before sleep could be beneficial, as these methods are studied to potentially calm the mind and reduce anxiety. In the upcoming session, we need to ensure these new coping strategies are properly adjusted to correspond to the client's needs. These advances in the therapeutic plan will be cautiously monitored over the next two weeks during the follow-up session.\",\n",
       "  'id': '15dbc15e-47bc-4087-b631-8ac4f298aa27',\n",
       "  'date': '2024-04-24T05:19:34.722674+00:00'},\n",
       " {'function_return': 'None',\n",
       "  'status': 'success',\n",
       "  'id': 'e89b3c03-7240-43eb-8807-bddc60293960',\n",
       "  'date': '2024-04-24T05:19:34.724668+00:00'}]"
      ]
     },
     "execution_count": 27,
     "metadata": {},
     "output_type": "execute_result"
    }
   ],
   "source": [
    "# Send a message and see the response\n",
    "message = f\"Please reflect on the information you wrote regarding your client: {completion.choices[0].message.content}\"\n",
    "\n",
    "response = send_message(agent_id, message)\n",
    "response.messages"
   ]
  },
  {
   "cell_type": "code",
   "execution_count": 28,
   "metadata": {},
   "outputs": [
    {
     "data": {
      "text/plain": [
       "[\"'On August 15, 2021, the client exhibited symptoms of PTSD including insomnia, intrusive thoughts, and heightened emotional distress. Despite attempting relaxation techniques and good sleep hygiene practices, these symptoms continue to persist. Moving forward, cognitive-behavioral therapy techniques focusing on insomnia management will be incorporated into the treatment plan. Progress will be monitored closely and adjustments will be made as needed. Next appointment is scheduled for September 5, 2021.\",\n",
       " '\"On October 15, 2022, it was noted that the client\\'s sleep disturbances had intensified, highlighted by increased difficulty falling asleep and the frequency of nightmares. This was impacting daytime activities, concentration, and causing a heightened sense of hyperarousal. While their engagement in therapy remains positive, relaxation techniques provided earlier didn\\'t significantly improve sleep quality. To combat this, mindfulness practices were advised as a non-pharmacological intervention. The impact of these adjustments will be assessed in the follow-up session in two weeks.']"
      ]
     },
     "execution_count": 28,
     "metadata": {},
     "output_type": "execute_result"
    }
   ],
   "source": [
    "archival_memory.append(insert_memory(response))\n",
    "archival_memory"
   ]
  },
  {
   "cell_type": "markdown",
   "metadata": {},
   "source": [
    "## **SECOND Progress Note & Psychiatrist Reflection and Memory**"
   ]
  },
  {
   "cell_type": "code",
   "execution_count": 29,
   "metadata": {},
   "outputs": [
    {
     "name": "stdout",
     "output_type": "stream",
     "text": [
      "Date: May 25, 2023\n",
      "\n",
      "Client presented today with noticeable improvements since our last visit. They reported a decrease in the frequency and intensity of nightmares related to past traumatic experiences, which is a positive development in managing their PTSD symptoms. Client mentioned that implementing relaxation techniques before bedtime has helped them fall asleep faster and experience fewer disruptions during the night.\n",
      "\n",
      "During the session, client seemed more at ease discussing their emotions and thoughts, demonstrating progress in building trust and rapport in our therapeutic relationship. They expressed a growing awareness of their triggers and have been actively practicing grounding exercises to manage overwhelming feelings of anxiety and distress.\n",
      "\n",
      "Client also shared that they have been gradually incorporating a structured bedtime routine, including turning off screens an hour before sleep and creating a calming environment in their bedroom. While client still experiences occasional difficulty maintaining sleep throughout the night, they appear more hopeful about their ability to overcome insomnia symptoms.\n",
      "\n",
      "Overall, client's resilience and commitment to coping strategies have been instrumental in their progress towards better sleep hygiene and emotional regulation. We will continue to monitor their PTSD symptoms and address any remaining challenges in our future sessions.\n"
     ]
    }
   ],
   "source": [
    "pathology_A = \"PTSD\"\n",
    "pathology_B = \"Primary Insomnia\"\n",
    "note_type = \"progress\"\n",
    "note = completion.choices[0].message.content\n",
    "memory = '\\n'.join(archival_memory)\n",
    "\n",
    "completion = synthesize_note(pathology_A, pathology_B, note_type)\n",
    "print(completion.choices[0].message.content)"
   ]
  },
  {
   "cell_type": "code",
   "execution_count": 30,
   "metadata": {},
   "outputs": [
    {
     "data": {
      "text/plain": [
       "[{'internal_monologue': \"A positive shift is evident in the client's situation. They are demonstrating improvement with a decrease in nightmare frequency and intensity, faster sleep onset, fewer sleep disruptions, and enhanced emotional discussions. Their rigorous practice of relaxation techniques and maintaining a structured bedtime routine have played a significant positive role in their progress. Their resilience and commitment are worth appreciating. This is promising progress but requires ongoing support. Let's keep these positive developments in the archival memory for future reference.\",\n",
       "  'id': '87889a42-9178-4e38-92c9-6e3ce48b990b',\n",
       "  'date': '2024-04-24T05:19:48.248953+00:00'},\n",
       " {'function_call': 'archival_memory_insert({\\'content\\': \"On May 25, 2023, the client demonstrated remarkable improvement. There was a reduction in the frequency and intensity of PTSD related nightmares and less difficulty falling asleep, owing to systematic implementation of relaxation techniques and a structured bedtime routine. Client\\'s commitment and resilience have been instrumental in these positive developments, and while some sleep maintenance issues persist, the client\\'s overall progress is promising. Continued support and monitoring of PTSD symptoms remain necessary in future sessions.\"})',\n",
       "  'id': '87889a42-9178-4e38-92c9-6e3ce48b990b',\n",
       "  'date': '2024-04-24T05:19:48.248953+00:00'},\n",
       " {'function_return': 'None',\n",
       "  'status': 'success',\n",
       "  'id': '63479e72-ef93-4e81-a85e-8353ee247c7b',\n",
       "  'date': '2024-04-24T05:19:48.448885+00:00'},\n",
       " {'internal_monologue': \"The improvements noted during the May 25, 2023 session are reassuring, demonstrating the impact of a tailored therapeutic approach. With ongoing therapy and the client's personal commitment, we're building promising momentum towards managing their insomnia and PTSD symptoms. As we move forward, it's essential not only to acknowledge these advancements but also to nurture resilience and hopefulness, maintaining our focus on a comprehensive healing process.\",\n",
       "  'id': 'a322c904-01d2-461f-811d-b8b49a6ec73b',\n",
       "  'date': '2024-04-24T05:20:08.962339+00:00'},\n",
       " {'function_call': 'send_message({\\'message\\': \"This reflection on the client\\'s progress is heartening indeed. Notably, the reduction of nightmares, easier sleep onset, and fewer sleep disturbances demonstrate that the therapeutic strategies implemented are bearing fruit. It\\'s important to commend the client\\'s dedication in practicing the suggested relaxation techniques and maintaining a healthier sleep routine. As we proceed, our focus will not just be on fostering further improvements, but also on reinforcing the client\\'s resilience and capacity to continue this healing journey.\"})',\n",
       "  'id': 'a322c904-01d2-461f-811d-b8b49a6ec73b',\n",
       "  'date': '2024-04-24T05:20:08.962339+00:00'},\n",
       " {'assistant_message': \"This reflection on the client's progress is heartening indeed. Notably, the reduction of nightmares, easier sleep onset, and fewer sleep disturbances demonstrate that the therapeutic strategies implemented are bearing fruit. It's important to commend the client's dedication in practicing the suggested relaxation techniques and maintaining a healthier sleep routine. As we proceed, our focus will not just be on fostering further improvements, but also on reinforcing the client's resilience and capacity to continue this healing journey.\",\n",
       "  'id': 'a322c904-01d2-461f-811d-b8b49a6ec73b',\n",
       "  'date': '2024-04-24T05:20:08.962339+00:00'},\n",
       " {'function_return': 'None',\n",
       "  'status': 'success',\n",
       "  'id': 'c4c806f9-3871-4501-9646-5459247cc343',\n",
       "  'date': '2024-04-24T05:20:08.963336+00:00'}]"
      ]
     },
     "execution_count": 30,
     "metadata": {},
     "output_type": "execute_result"
    }
   ],
   "source": [
    "# Send a message and see the response\n",
    "message = f\"Please reflect on the information you wrote regarding your client: {completion.choices[0].message.content}\"\n",
    "\n",
    "response = send_message(agent_id, message)\n",
    "response.messages"
   ]
  },
  {
   "cell_type": "code",
   "execution_count": 31,
   "metadata": {},
   "outputs": [
    {
     "data": {
      "text/plain": [
       "[\"'On August 15, 2021, the client exhibited symptoms of PTSD including insomnia, intrusive thoughts, and heightened emotional distress. Despite attempting relaxation techniques and good sleep hygiene practices, these symptoms continue to persist. Moving forward, cognitive-behavioral therapy techniques focusing on insomnia management will be incorporated into the treatment plan. Progress will be monitored closely and adjustments will be made as needed. Next appointment is scheduled for September 5, 2021.\",\n",
       " '\"On October 15, 2022, it was noted that the client\\'s sleep disturbances had intensified, highlighted by increased difficulty falling asleep and the frequency of nightmares. This was impacting daytime activities, concentration, and causing a heightened sense of hyperarousal. While their engagement in therapy remains positive, relaxation techniques provided earlier didn\\'t significantly improve sleep quality. To combat this, mindfulness practices were advised as a non-pharmacological intervention. The impact of these adjustments will be assessed in the follow-up session in two weeks.',\n",
       " '\"On May 25, 2023, the client demonstrated remarkable improvement. There was a reduction in the frequency and intensity of PTSD related nightmares and less difficulty falling asleep, owing to systematic implementation of relaxation techniques and a structured bedtime routine. Client\\'s commitment and resilience have been instrumental in these positive developments, and while some sleep maintenance issues persist, the client\\'s overall progress is promising. Continued support and monitoring of PTSD symptoms remain necessary in future sessions.']"
      ]
     },
     "execution_count": 31,
     "metadata": {},
     "output_type": "execute_result"
    }
   ],
   "source": [
    "archival_memory.append(insert_memory(response))\n",
    "archival_memory"
   ]
  },
  {
   "cell_type": "markdown",
   "metadata": {},
   "source": [
    "## **THIRD Progress Note & Psychiatrist Reflection and Memory**"
   ]
  },
  {
   "cell_type": "code",
   "execution_count": 32,
   "metadata": {},
   "outputs": [
    {
     "name": "stdout",
     "output_type": "stream",
     "text": [
      "Date: August 25, 2021\n",
      "\n",
      "Client presented today with continued symptoms of insomnia and anxiety related to past traumatic experiences. Client reports that despite attempting relaxation techniques before bed, they still struggle to fall asleep and often wake up multiple times throughout the night. Client describes persistent nightmares, which contribute to their overall feelings of distress and exhaustion.\n",
      "\n",
      "During today's session, we explored potential triggers for client's insomnia and anxiety, focusing on recent stressors at work and difficulties in personal relationships. Client expressed feelings of helplessness and heightened arousal when faced with conflict, indicating a possible exacerbation of their PTSD symptoms.\n",
      "\n",
      "Client appears fatigued and irritable, displaying signs of increased emotional reactivity compared to previous sessions. Their overall demeanor suggests a decline in mental well-being and a need for additional support in managing their symptoms.\n",
      "\n",
      "Client's PTSD symptoms appear to be worsening, impacting their ability to cope with daily stressors and leading to disrupted sleep patterns. Treatment plan includes continued therapy sessions focusing on trauma processing techniques and mindfulness-based approaches to address insomnia.\n",
      "\n",
      "Follow-up appointment scheduled in two weeks to reassess client's progress and consider any necessary adjustments to their treatment plan. Encouraged client to prioritize self-care activities and reach out for support if symptoms escalate before our next session.\n"
     ]
    }
   ],
   "source": [
    "pathology_A = \"PTSD\"\n",
    "pathology_B = \"Primary Insomnia\"\n",
    "note_type = \"progress\"\n",
    "note = completion.choices[0].message.content\n",
    "memory = '\\n'.join(archival_memory)\n",
    "\n",
    "completion = synthesize_note(pathology_A, pathology_B, note_type)\n",
    "print(completion.choices[0].message.content)"
   ]
  },
  {
   "cell_type": "code",
   "execution_count": 33,
   "metadata": {},
   "outputs": [
    {
     "data": {
      "text/plain": [
       "[{'internal_monologue': \"The client exhibits heightened symptoms, constant wakefulness, persistent nightmares, and a pervasive sense of helplessness. Their PTSD symptoms have reportedly increased, affecting their daily stress management and sleep patterns. However, the client is encouraged to continue therapy sessions — focusing on trauma processing and mindfulness-based practices for the insomnia. This situation calls for a careful reevaluation of the client's treatment plan as these heightened indicators can detrimentally impact the recovery process. It's pertinent to document these changes in archival memory for future reference.\",\n",
       "  'id': '4cccd1ba-f5ae-4c86-b862-d46f7c4bd013',\n",
       "  'date': '2024-04-24T05:20:57.875169+00:00'},\n",
       " {'function_call': 'archival_memory_insert({\\'content\\': \"On August 25, 2021, the client showed heightened symptoms of insomnia and anxiety linked to previous traumatic experiences. Their PTSD symptoms seemingly worsened, affecting daily stress management and leading to disrupted sleep patterns. Notwithstanding, the continued focus will be therapy centered around trauma processing and mindfulness methods to address insomnia. However, this situation necessitates a careful reassessment of the client\\'s ongoing treatment and support strategies. The follow-up appointment in two weeks will evaluate these changes.\"})',\n",
       "  'id': '4cccd1ba-f5ae-4c86-b862-d46f7c4bd013',\n",
       "  'date': '2024-04-24T05:20:57.875169+00:00'},\n",
       " {'function_return': 'None',\n",
       "  'status': 'success',\n",
       "  'id': '761fd16a-d681-47b2-9503-010c8aeed9b8',\n",
       "  'date': '2024-04-24T05:20:58.058558+00:00'},\n",
       " {'internal_monologue': \"The update has been successfully noted in the archival memory. Reflecting on this situation, it's clear that despite therapeutic efforts, the client might need a reevaluation of their current treatment strategies. Any worsening of symptoms necessitates close attention and swift action to ensure the client's wellbeing. The next session will be pivotal in assessing the need for possible adjustments in their treatment plan and providing the client with the necessary reassurances.\",\n",
       "  'id': '2e440b44-c116-4f25-9284-d4b436e729b1',\n",
       "  'date': '2024-04-24T05:21:24.464866+00:00'},\n",
       " {'function_call': 'send_message({\\'message\\': \"Reflecting on the information provided, it’s clear that the client\\'s condition requires careful attention. The persistence of insomnia, increased anxiety, and reported feelings of helplessness indicate a need for reassessment and potential adjustment of the treatment plan. The therapeutic trajectory thus far emphasizes the nature of recovery as not linear but interspersed with unique challenges. The upcoming session will be of utmost importance for reevaluating our therapy strategies. It\\'s crucial to ensure the client feels supported and hears recommendations for further self-care measures.\"})',\n",
       "  'id': '2e440b44-c116-4f25-9284-d4b436e729b1',\n",
       "  'date': '2024-04-24T05:21:24.464866+00:00'},\n",
       " {'assistant_message': \"Reflecting on the information provided, it’s clear that the client's condition requires careful attention. The persistence of insomnia, increased anxiety, and reported feelings of helplessness indicate a need for reassessment and potential adjustment of the treatment plan. The therapeutic trajectory thus far emphasizes the nature of recovery as not linear but interspersed with unique challenges. The upcoming session will be of utmost importance for reevaluating our therapy strategies. It's crucial to ensure the client feels supported and hears recommendations for further self-care measures.\",\n",
       "  'id': '2e440b44-c116-4f25-9284-d4b436e729b1',\n",
       "  'date': '2024-04-24T05:21:24.464866+00:00'},\n",
       " {'function_return': 'None',\n",
       "  'status': 'success',\n",
       "  'id': 'fd4cf634-44fa-47d0-8da9-2ccd6f78289d',\n",
       "  'date': '2024-04-24T05:21:24.466898+00:00'}]"
      ]
     },
     "execution_count": 33,
     "metadata": {},
     "output_type": "execute_result"
    }
   ],
   "source": [
    "# Send a message and see the response\n",
    "message = f\"Please reflect on the information you wrote regarding your client: {completion.choices[0].message.content}\"\n",
    "\n",
    "response = send_message(agent_id, message)\n",
    "response.messages"
   ]
  },
  {
   "cell_type": "code",
   "execution_count": 34,
   "metadata": {},
   "outputs": [
    {
     "data": {
      "text/plain": [
       "[\"'On August 15, 2021, the client exhibited symptoms of PTSD including insomnia, intrusive thoughts, and heightened emotional distress. Despite attempting relaxation techniques and good sleep hygiene practices, these symptoms continue to persist. Moving forward, cognitive-behavioral therapy techniques focusing on insomnia management will be incorporated into the treatment plan. Progress will be monitored closely and adjustments will be made as needed. Next appointment is scheduled for September 5, 2021.\",\n",
       " '\"On October 15, 2022, it was noted that the client\\'s sleep disturbances had intensified, highlighted by increased difficulty falling asleep and the frequency of nightmares. This was impacting daytime activities, concentration, and causing a heightened sense of hyperarousal. While their engagement in therapy remains positive, relaxation techniques provided earlier didn\\'t significantly improve sleep quality. To combat this, mindfulness practices were advised as a non-pharmacological intervention. The impact of these adjustments will be assessed in the follow-up session in two weeks.',\n",
       " '\"On May 25, 2023, the client demonstrated remarkable improvement. There was a reduction in the frequency and intensity of PTSD related nightmares and less difficulty falling asleep, owing to systematic implementation of relaxation techniques and a structured bedtime routine. Client\\'s commitment and resilience have been instrumental in these positive developments, and while some sleep maintenance issues persist, the client\\'s overall progress is promising. Continued support and monitoring of PTSD symptoms remain necessary in future sessions.',\n",
       " '\"On August 25, 2021, the client showed heightened symptoms of insomnia and anxiety linked to previous traumatic experiences. Their PTSD symptoms seemingly worsened, affecting daily stress management and leading to disrupted sleep patterns. Notwithstanding, the continued focus will be therapy centered around trauma processing and mindfulness methods to address insomnia. However, this situation necessitates a careful reassessment of the client\\'s ongoing treatment and support strategies. The follow-up appointment in two weeks will evaluate these changes.']"
      ]
     },
     "execution_count": 34,
     "metadata": {},
     "output_type": "execute_result"
    }
   ],
   "source": [
    "archival_memory.append(insert_memory(response))\n",
    "archival_memory"
   ]
  },
  {
   "cell_type": "markdown",
   "metadata": {},
   "source": [
    "## **FOURTH Progress Note & Psychiatrist Reflection and Memory**"
   ]
  },
  {
   "cell_type": "code",
   "execution_count": 35,
   "metadata": {},
   "outputs": [
    {
     "name": "stdout",
     "output_type": "stream",
     "text": [
      "Date: February 15, 2023\n",
      "\n",
      "Client presented today appearing more fatigued than usual, reporting continued difficulty falling asleep despite practicing good sleep hygiene. Client shared experiencing intrusive memories related to a traumatic event, leading to heightened anxiety and reactivity. Client mentioned a slight increase in nightmares, with themes of helplessness and danger persisting. \n",
      "\n",
      "During the session, client appeared visibly distressed when discussing specific triggers, leading to increased heart rate and shallow breathing. Client expressed frustration at feeling constantly on edge and struggling to concentrate on daily tasks. Client showed decreased interest in hobbies previously enjoyed and displayed signs of emotional numbing during the session.\n",
      "\n",
      "Client's PTSD symptoms appear to be worsening, impacting sleep quality and overall functioning. We will explore tailored interventions to address both the PTSD symptoms and sleep disturbances in the upcoming sessions to improve client's quality of life. It is crucial to continue monitoring client's progress closely to provide timely support and intervention. Follow-up appointment scheduled in two weeks.\n"
     ]
    }
   ],
   "source": [
    "pathology_A = \"PTSD\"\n",
    "pathology_B = \"Primary Insomnia\"\n",
    "note_type = \"progress\"\n",
    "note = completion.choices[0].message.content\n",
    "memory = '\\n'.join(archival_memory)\n",
    "\n",
    "completion = synthesize_note(pathology_A, pathology_B, note_type)\n",
    "print(completion.choices[0].message.content)"
   ]
  },
  {
   "cell_type": "code",
   "execution_count": 36,
   "metadata": {},
   "outputs": [
    {
     "data": {
      "text/plain": [
       "[{'internal_monologue': \"There's a marked increase in the client's symptoms including fatigue, difficulty in falling asleep, intrusive memories, and heightened reactivity. Emotional numbing and decreased interest in hobbies present an alarming retreat from positive engagements. It's crucial to revisit intervention strategies targeting both PTSD symptoms and sleep disturbances. Upcoming sessions must work on enriched coping mechanisms and immediate supportive measures. The heightened symptoms and client's distress necessitate a prompt and sensitive addressal. Plan to keep these significant details in archival memory for future reference.\",\n",
       "  'id': 'c171e91e-c523-49bb-bbc3-57ffad1868eb',\n",
       "  'date': '2024-04-24T05:21:57.635854+00:00'},\n",
       " {'function_call': 'archival_memory_insert({\\'content\\': \"On February 15, 2023, the client\\'s condition was noted to be deteriorating, with increased symptoms of fatigue, sleep disturbances, intrusive memories, and heightened reactivity. A characteristic retreat from positive engagements was marked by emotional numbing and a diminished interest in hobbies. The necessity to revisit intervention strategies and tailor them further towards addressing both PTSD symptoms and sleep disturbances became apparent. Given the heightened symptoms and client\\'s distress, the situation demands a prompt and empathetic approach in upcoming sessions.\"})',\n",
       "  'id': 'c171e91e-c523-49bb-bbc3-57ffad1868eb',\n",
       "  'date': '2024-04-24T05:21:57.635854+00:00'},\n",
       " {'function_return': 'None',\n",
       "  'status': 'success',\n",
       "  'id': '1963d028-6f81-4060-ba08-b252ec36cee1',\n",
       "  'date': '2024-04-24T05:21:57.865779+00:00'},\n",
       " {'internal_monologue': \"Given the upcoming conversation history clean-up, I should ensure all crucial details of the client's progress and therapy are saved in archival memory. The most recent encounter from February 15, 2023, was pivotal, demonstrating worsening symptoms: increased fatigue, sleep issues, heightened reactivity, and emotional numbing. The necessary approach is a tailored intervention strategy in the upcoming sessions. I need to ensure that these details, marking an important phase in therapy, are preserved.\",\n",
       "  'id': 'c2739895-12ee-42f7-84f8-bf0f87bf2205',\n",
       "  'date': '2024-04-24T05:22:43.714386+00:00'},\n",
       " {'function_call': \"archival_memory_insert({'content': 'Concerning observations were made during the February 15, 2023 session. The client presented with worsening symptoms, including a significant struggle with sleep, amplified intrusive memories, heightened reactivity, and exhibited signs of emotional numbing. A marked retreat from previously enjoyed hobbies was evident, indicating a deteriorating condition. Given these signs, a reconsideration of therapy strategies was deemed necessary. With a focus on enriched and immediate support, tailored intervention strategies are to be explored in subsequent sessions.'})\",\n",
       "  'id': 'c2739895-12ee-42f7-84f8-bf0f87bf2205',\n",
       "  'date': '2024-04-24T05:22:43.714386+00:00'},\n",
       " {'function_return': 'None',\n",
       "  'status': 'success',\n",
       "  'id': 'b388aef8-a823-4702-a2ae-794dd8741207',\n",
       "  'date': '2024-04-24T05:22:43.873040+00:00'},\n",
       " {'internal_monologue': \"The session details have been successfully archived. The current focus is to ensure empathetic and strategic interventions for the client's worsening symptoms. This is a challenging period in their therapy, and their resilience will undoubtedly be put to the test, but with proper support and understanding, we can navigate through this. The client's therapy journey has had ups and downs, such is the nature of recovery. Understanding this will help maintain realistic expectations and an optimistic outlook for the improved wellbeing of the client and the success of therapy. Let's plan for the upcoming session accordingly.\",\n",
       "  'id': '6b4cd2f0-4c63-4a86-97f1-6f02eb4a9b50',\n",
       "  'date': '2024-04-24T05:23:34.632668+00:00'},\n",
       " {'function_call': 'send_message({\\'message\\': \"Reflecting on the specifics of the session held on February 15, 2023, it\\'s clear that the client was facing significant challenges. Each therapy journey is unique and comes with its own ups and downs. Clients might encounter worsening symptoms, such as those experienced by your client - but this does not signify an end to progress. Rather, it\\'s an opportunity to adapt our therapeutic approach and incorporate new coping strategies. As we reassess and plan their ongoing support, it\\'s crucial to nurture resilience and foster a sense of optimism about their path to wellness.\"})',\n",
       "  'id': '6b4cd2f0-4c63-4a86-97f1-6f02eb4a9b50',\n",
       "  'date': '2024-04-24T05:23:34.632668+00:00'},\n",
       " {'assistant_message': \"Reflecting on the specifics of the session held on February 15, 2023, it's clear that the client was facing significant challenges. Each therapy journey is unique and comes with its own ups and downs. Clients might encounter worsening symptoms, such as those experienced by your client - but this does not signify an end to progress. Rather, it's an opportunity to adapt our therapeutic approach and incorporate new coping strategies. As we reassess and plan their ongoing support, it's crucial to nurture resilience and foster a sense of optimism about their path to wellness.\",\n",
       "  'id': '6b4cd2f0-4c63-4a86-97f1-6f02eb4a9b50',\n",
       "  'date': '2024-04-24T05:23:34.632668+00:00'},\n",
       " {'function_return': 'None',\n",
       "  'status': 'success',\n",
       "  'id': 'ce0913b0-9eb7-4897-bc74-4113868b2b42',\n",
       "  'date': '2024-04-24T05:23:34.634663+00:00'}]"
      ]
     },
     "execution_count": 36,
     "metadata": {},
     "output_type": "execute_result"
    }
   ],
   "source": [
    "# Send a message and see the response\n",
    "message = f\"Please reflect on the information you wrote regarding your client: {completion.choices[0].message.content}\"\n",
    "\n",
    "response = send_message(agent_id, message)\n",
    "response.messages"
   ]
  },
  {
   "cell_type": "code",
   "execution_count": 37,
   "metadata": {},
   "outputs": [
    {
     "data": {
      "text/plain": [
       "[\"'On August 15, 2021, the client exhibited symptoms of PTSD including insomnia, intrusive thoughts, and heightened emotional distress. Despite attempting relaxation techniques and good sleep hygiene practices, these symptoms continue to persist. Moving forward, cognitive-behavioral therapy techniques focusing on insomnia management will be incorporated into the treatment plan. Progress will be monitored closely and adjustments will be made as needed. Next appointment is scheduled for September 5, 2021.\",\n",
       " '\"On October 15, 2022, it was noted that the client\\'s sleep disturbances had intensified, highlighted by increased difficulty falling asleep and the frequency of nightmares. This was impacting daytime activities, concentration, and causing a heightened sense of hyperarousal. While their engagement in therapy remains positive, relaxation techniques provided earlier didn\\'t significantly improve sleep quality. To combat this, mindfulness practices were advised as a non-pharmacological intervention. The impact of these adjustments will be assessed in the follow-up session in two weeks.',\n",
       " '\"On May 25, 2023, the client demonstrated remarkable improvement. There was a reduction in the frequency and intensity of PTSD related nightmares and less difficulty falling asleep, owing to systematic implementation of relaxation techniques and a structured bedtime routine. Client\\'s commitment and resilience have been instrumental in these positive developments, and while some sleep maintenance issues persist, the client\\'s overall progress is promising. Continued support and monitoring of PTSD symptoms remain necessary in future sessions.',\n",
       " '\"On August 25, 2021, the client showed heightened symptoms of insomnia and anxiety linked to previous traumatic experiences. Their PTSD symptoms seemingly worsened, affecting daily stress management and leading to disrupted sleep patterns. Notwithstanding, the continued focus will be therapy centered around trauma processing and mindfulness methods to address insomnia. However, this situation necessitates a careful reassessment of the client\\'s ongoing treatment and support strategies. The follow-up appointment in two weeks will evaluate these changes.',\n",
       " '\"On February 15, 2023, the client\\'s condition was noted to be deteriorating, with increased symptoms of fatigue, sleep disturbances, intrusive memories, and heightened reactivity. A characteristic retreat from positive engagements was marked by emotional numbing and a diminished interest in hobbies. The necessity to revisit intervention strategies and tailor them further towards addressing both PTSD symptoms and sleep disturbances became apparent. Given the heightened symptoms and client\\'s distress, the situation demands a prompt and empathetic approach in upcoming sessions.']"
      ]
     },
     "execution_count": 37,
     "metadata": {},
     "output_type": "execute_result"
    }
   ],
   "source": [
    "archival_memory.append(insert_memory(response))\n",
    "archival_memory"
   ]
  },
  {
   "cell_type": "markdown",
   "metadata": {},
   "source": [
    "## **FIFTH Progress Note & Psychiatrist Reflection and Memory**"
   ]
  },
  {
   "cell_type": "code",
   "execution_count": 38,
   "metadata": {},
   "outputs": [
    {
     "name": "stdout",
     "output_type": "stream",
     "text": [
      "Date: September 15, 2021\n",
      "\n",
      "Client presented today with ongoing symptoms of hyperarousal, including increased irritability, difficulty concentrating, and hypervigilance. Client reported persistent nightmares related to past traumatic experiences, causing disruptions in sleep patterns. Client shared feeling overwhelmed by intrusive thoughts and memories, contributing to heightened anxiety levels throughout the day.\n",
      "\n",
      "Client demonstrated some improvement in utilizing relaxation techniques discussed in previous sessions to manage anxiety symptoms. Client reported engaging in regular exercise routine, which has helped in reducing overall stress levels. However, client expressed frustration over continued struggles with falling asleep and staying asleep, revealing persistent insomnia symptoms.\n",
      "\n",
      "We discussed the importance of maintaining a consistent sleep schedule and implementing good sleep hygiene practices. Client agreed to keep a sleep diary to track patterns and identify any triggers contributing to insomnia. Client expressed willingness to explore potential pharmacological interventions if non-pharmacological approaches prove ineffective in improving sleep quality.\n",
      "\n",
      "Client's PTSD symptoms appear to be fluctuating, with some improvement in anxiety management but persistent difficulties with sleep disturbances. We will continue to monitor progress closely and adjust treatment strategies as needed to address both PTSD and insomnia symptoms effectively. Follow-up appointment scheduled in two weeks to assess response to current interventions and make any necessary modifications to the treatment plan.\n"
     ]
    }
   ],
   "source": [
    "pathology_A = \"PTSD\"\n",
    "pathology_B = \"Primary Insomnia\"\n",
    "note_type = \"progress\"\n",
    "note = completion.choices[0].message.content\n",
    "memory = '\\n'.join(archival_memory)\n",
    "\n",
    "completion = synthesize_note(pathology_A, pathology_B, note_type)\n",
    "print(completion.choices[0].message.content)"
   ]
  },
  {
   "cell_type": "code",
   "execution_count": 39,
   "metadata": {},
   "outputs": [
    {
     "data": {
      "text/plain": [
       "[{'internal_monologue': \"The session from September 15, 2021, brought mixed results. On one hand, the client exhibited persistent insomnia symptoms, nightmares, and hyperarousal. On the other hand, anxiety management showed improvement through the use of relaxation techniques and regular exercise. This is a critical juncture in the treatment where the client is open to exploring pharmacological interventions if necessary. It's important to remember that progress is not linear, and the client's frustrations reflect normal reactions to complex recovery processes. I must archive these therapy milestones for tracking long-term progress.\",\n",
       "  'id': 'c323a22b-2025-4b3c-b769-0b061902dd0b',\n",
       "  'date': '2024-04-24T05:24:05.040978+00:00'},\n",
       " {'function_call': 'archival_memory_insert({\\'content\\': \"On September 15, 2021, the client struggled with ongoing nightmares, hyperarousal, and persistent insomnia, despite improvements in anxiety management through relaxation techniques and regular exercise. The client displayed readiness to explore pharmacological interventions if non-pharmacological approaches didn\\'t yield substantial improvements. A consistent sleep schedule and robust sleep hygiene practices were discussed as part of ongoing therapy. The client agreed to keep a sleep diary to help identify triggers and patterns, marking a crucial point in their treatment journey.\"})',\n",
       "  'id': 'c323a22b-2025-4b3c-b769-0b061902dd0b',\n",
       "  'date': '2024-04-24T05:24:05.040978+00:00'},\n",
       " {'function_return': 'None',\n",
       "  'status': 'success',\n",
       "  'id': 'd9cffa5d-f151-4c69-8082-91309fbe361f',\n",
       "  'date': '2024-04-24T05:24:05.473197+00:00'},\n",
       " {'internal_monologue': \"The critical notes from the September 15, 2021 session are now properly archived. The client's struggles are evident as are their efforts to improve. Amidst fluctuating progress, their readiness to keep a sleep diary and open-mindedness towards potential pharmacological interventions are significant milestones. This presents an opportunity to broaden the scope of their treatment. As we journey onward, let's maintain a strong focus on the client's evolving needs and continue creating a supportive therapeutic environment.\",\n",
       "  'id': 'd5e22fbf-d055-42f5-9401-f015eed4a00a',\n",
       "  'date': '2024-04-24T05:24:53.777281+00:00'},\n",
       " {'function_call': 'send_message({\\'message\\': \"Reflecting on the session from September 15, 2021, there\\'s a clear illustration that the client\\'s therapeutic journey reveals both trials and strength. Despite persistent insomnia and hyperarousal symptoms, it\\'s encouraging to note their improvement in managing anxiety through relaxation techniques and maintaining an exercise routine. Their openness to potential pharmacological interventions if non-pharmacological methods continue to fall short is a vital step forward. Moreover, keeping a sleep diary could offer valuable insights into sleep patterns. Hence, this fluctuating progress is a testament to the complexity and uniqueness of each therapeutic journey.\"})',\n",
       "  'id': 'd5e22fbf-d055-42f5-9401-f015eed4a00a',\n",
       "  'date': '2024-04-24T05:24:53.777281+00:00'},\n",
       " {'assistant_message': \"Reflecting on the session from September 15, 2021, there's a clear illustration that the client's therapeutic journey reveals both trials and strength. Despite persistent insomnia and hyperarousal symptoms, it's encouraging to note their improvement in managing anxiety through relaxation techniques and maintaining an exercise routine. Their openness to potential pharmacological interventions if non-pharmacological methods continue to fall short is a vital step forward. Moreover, keeping a sleep diary could offer valuable insights into sleep patterns. Hence, this fluctuating progress is a testament to the complexity and uniqueness of each therapeutic journey.\",\n",
       "  'id': 'd5e22fbf-d055-42f5-9401-f015eed4a00a',\n",
       "  'date': '2024-04-24T05:24:53.777281+00:00'},\n",
       " {'function_return': 'None',\n",
       "  'status': 'success',\n",
       "  'id': '7d5481b0-2759-4fcb-97f9-8341c46de7ae',\n",
       "  'date': '2024-04-24T05:24:53.779057+00:00'}]"
      ]
     },
     "execution_count": 39,
     "metadata": {},
     "output_type": "execute_result"
    }
   ],
   "source": [
    "# Send a message and see the response\n",
    "message = f\"Please reflect on the information you wrote regarding your client: {completion.choices[0].message.content}\"\n",
    "\n",
    "response = send_message(agent_id, message)\n",
    "response.messages"
   ]
  },
  {
   "cell_type": "code",
   "execution_count": 40,
   "metadata": {},
   "outputs": [
    {
     "data": {
      "text/plain": [
       "[\"'On August 15, 2021, the client exhibited symptoms of PTSD including insomnia, intrusive thoughts, and heightened emotional distress. Despite attempting relaxation techniques and good sleep hygiene practices, these symptoms continue to persist. Moving forward, cognitive-behavioral therapy techniques focusing on insomnia management will be incorporated into the treatment plan. Progress will be monitored closely and adjustments will be made as needed. Next appointment is scheduled for September 5, 2021.\",\n",
       " '\"On October 15, 2022, it was noted that the client\\'s sleep disturbances had intensified, highlighted by increased difficulty falling asleep and the frequency of nightmares. This was impacting daytime activities, concentration, and causing a heightened sense of hyperarousal. While their engagement in therapy remains positive, relaxation techniques provided earlier didn\\'t significantly improve sleep quality. To combat this, mindfulness practices were advised as a non-pharmacological intervention. The impact of these adjustments will be assessed in the follow-up session in two weeks.',\n",
       " '\"On May 25, 2023, the client demonstrated remarkable improvement. There was a reduction in the frequency and intensity of PTSD related nightmares and less difficulty falling asleep, owing to systematic implementation of relaxation techniques and a structured bedtime routine. Client\\'s commitment and resilience have been instrumental in these positive developments, and while some sleep maintenance issues persist, the client\\'s overall progress is promising. Continued support and monitoring of PTSD symptoms remain necessary in future sessions.',\n",
       " '\"On August 25, 2021, the client showed heightened symptoms of insomnia and anxiety linked to previous traumatic experiences. Their PTSD symptoms seemingly worsened, affecting daily stress management and leading to disrupted sleep patterns. Notwithstanding, the continued focus will be therapy centered around trauma processing and mindfulness methods to address insomnia. However, this situation necessitates a careful reassessment of the client\\'s ongoing treatment and support strategies. The follow-up appointment in two weeks will evaluate these changes.',\n",
       " '\"On February 15, 2023, the client\\'s condition was noted to be deteriorating, with increased symptoms of fatigue, sleep disturbances, intrusive memories, and heightened reactivity. A characteristic retreat from positive engagements was marked by emotional numbing and a diminished interest in hobbies. The necessity to revisit intervention strategies and tailor them further towards addressing both PTSD symptoms and sleep disturbances became apparent. Given the heightened symptoms and client\\'s distress, the situation demands a prompt and empathetic approach in upcoming sessions.',\n",
       " '\"On September 15, 2021, the client struggled with ongoing nightmares, hyperarousal, and persistent insomnia, despite improvements in anxiety management through relaxation techniques and regular exercise. The client displayed readiness to explore pharmacological interventions if non-pharmacological approaches didn\\'t yield substantial improvements. A consistent sleep schedule and robust sleep hygiene practices were discussed as part of ongoing therapy. The client agreed to keep a sleep diary to help identify triggers and patterns, marking a crucial point in their treatment journey.']"
      ]
     },
     "execution_count": 40,
     "metadata": {},
     "output_type": "execute_result"
    }
   ],
   "source": [
    "archival_memory.append(insert_memory(response))\n",
    "archival_memory"
   ]
  },
  {
   "cell_type": "markdown",
   "metadata": {},
   "source": [
    "## **SIXTH Progress Note & Psychiatrist Reflection and Memory**"
   ]
  },
  {
   "cell_type": "code",
   "execution_count": 41,
   "metadata": {},
   "outputs": [
    {
     "name": "stdout",
     "output_type": "stream",
     "text": [
      "Date: October 15, 2021\n",
      "\n",
      "Client presented today with noticeable improvements in mood compared to the last visit. They reported a slight decrease in the frequency of intrusive thoughts related to past traumatic events, indicating a positive response to the trauma-focused therapy sessions. Client also mentioned feeling more in control of their emotions and expressed a growing awareness of triggers, showcasing progress in emotional regulation.\n",
      "\n",
      "During the session, client shared that their sleep patterns have shown some signs of improvement. While they continue to experience difficulties falling asleep due to racing thoughts, they reported fewer instances of waking up in the middle of the night. Client attributed this progress to the sleep hygiene techniques discussed in previous sessions. It is encouraging to see these strategies yielding some positive results.\n",
      "\n",
      "Client stated that they have been actively engaging in relaxation techniques such as deep breathing exercises and guided imagery to help manage their anxiety symptoms. They noted a decrease in the intensity of panic attacks and acknowledged a gradual improvement in their overall sense of well-being.\n",
      "\n",
      "Overall, client appears to be responding well to the combined treatment approach focusing on both PTSD and insomnia. Plan to continue monitoring their progress closely and adjusting the treatment plan as needed to ensure continued improvement.\n",
      "\n",
      "Next follow-up appointment scheduled in three weeks to assess the ongoing progress and address any emerging concerns.\n"
     ]
    }
   ],
   "source": [
    "pathology_A = \"PTSD\"\n",
    "pathology_B = \"Primary Insomnia\"\n",
    "note_type = \"progress\"\n",
    "note = completion.choices[0].message.content\n",
    "memory = '\\n'.join(archival_memory)\n",
    "\n",
    "completion = synthesize_note(pathology_A, pathology_B, note_type)\n",
    "print(completion.choices[0].message.content)"
   ]
  },
  {
   "cell_type": "code",
   "execution_count": 42,
   "metadata": {},
   "outputs": [
    {
     "data": {
      "text/plain": [
       "[{'internal_monologue': \"The October 15, 2021 session brought encouragement, showing the client's progress in mood, sleep patterns, emotional regulation, and anxiety management. Mental health is a complex field, wherein recovery is a non-linear journey full of highs and lows. This session, however, highlighted the highs, showcasing promising improvements. The continued patience, endurance, and enhanced self-awareness of the client are proof of their resilience. This point of progress in my client's therapy creates an optimistic benchmark in their recovery narrative. I must ensure these details are saved in the archival memory.\",\n",
       "  'id': '5f5bd020-7a3a-4f25-a30e-0582832af650',\n",
       "  'date': '2024-04-24T05:26:40.489310+00:00'},\n",
       " {'function_call': 'archival_memory_insert({\\'content\\': \"The October 15, 2021 session showed encouraging progress in the client\\'s therapy. They exhibited improved mood, better emotional regulation, progress in managing their anxiety, and some improvement in their sleep patterns. The client\\'s active use of relaxation techniques demonstrated a growing self-awareness and control of their emotions. Their effort to identify triggers and decreasing frequency of intrusive thoughts are indications that the trauma-focused therapy is positively impacting them. The client\\'s resilience is marked by patience, endurance, and openness to change, forging an optimistic narrative in their therapy journey.\"})',\n",
       "  'id': '5f5bd020-7a3a-4f25-a30e-0582832af650',\n",
       "  'date': '2024-04-24T05:26:40.489310+00:00'},\n",
       " {'function_return': 'None',\n",
       "  'status': 'success',\n",
       "  'id': 'bf0b3d25-0fa2-4bb4-b349-dec301606b56',\n",
       "  'date': '2024-04-24T05:26:40.715375+00:00'},\n",
       " {'internal_monologue': \"Critical notes from the October 15, 2021 session have been successfully archived. I can't help but feel a sense of encouragement and hope. The client portrays resilience and commitment to recovery, which is evident in their active engagement with relaxation techniques and their open-mindedness towards new strategies. In the fluctuations of the therapeutic journey, such periods of evident progress stand as pivotal points of brightness and optimism. As we continue, let's keep this moment of growth in our minds, reminding us of the client's potential as we forge the treatment path ahead.\",\n",
       "  'id': 'b15e6eda-f759-4b00-b9c3-059fc2cc6ea7',\n",
       "  'date': '2024-04-24T05:27:06.767419+00:00'},\n",
       " {'function_call': 'send_message({\\'message\\': \"Reflecting on the session from October 15, 2021, it\\'s heartening to observe the client\\'s progress and resilience. Their ability to engage with relaxation techniques, their growing self-awareness, and proactive actions to improve emotional regulation indicate significant strides in their therapeutic journey. Especially promising was the improvement in sleep patterns, contributing positively to their overall well-being. This progression serves as a beacon of hope and resilience, a reminder of the client\\'s capacity for growth, and offers an optimistic perspective for the path ahead in their therapy.\"})',\n",
       "  'id': 'b15e6eda-f759-4b00-b9c3-059fc2cc6ea7',\n",
       "  'date': '2024-04-24T05:27:06.767419+00:00'},\n",
       " {'assistant_message': \"Reflecting on the session from October 15, 2021, it's heartening to observe the client's progress and resilience. Their ability to engage with relaxation techniques, their growing self-awareness, and proactive actions to improve emotional regulation indicate significant strides in their therapeutic journey. Especially promising was the improvement in sleep patterns, contributing positively to their overall well-being. This progression serves as a beacon of hope and resilience, a reminder of the client's capacity for growth, and offers an optimistic perspective for the path ahead in their therapy.\",\n",
       "  'id': 'b15e6eda-f759-4b00-b9c3-059fc2cc6ea7',\n",
       "  'date': '2024-04-24T05:27:06.767419+00:00'},\n",
       " {'function_return': 'None',\n",
       "  'status': 'success',\n",
       "  'id': '34ee8f98-adda-408e-9ad6-2c1d5660ff5d',\n",
       "  'date': '2024-04-24T05:27:06.770409+00:00'}]"
      ]
     },
     "execution_count": 42,
     "metadata": {},
     "output_type": "execute_result"
    }
   ],
   "source": [
    "# Send a message and see the response\n",
    "message = f\"Please reflect on the information you wrote regarding your client: {completion.choices[0].message.content}\"\n",
    "\n",
    "response = send_message(agent_id, message)\n",
    "response.messages"
   ]
  },
  {
   "cell_type": "code",
   "execution_count": 43,
   "metadata": {},
   "outputs": [
    {
     "data": {
      "text/plain": [
       "[\"'On August 15, 2021, the client exhibited symptoms of PTSD including insomnia, intrusive thoughts, and heightened emotional distress. Despite attempting relaxation techniques and good sleep hygiene practices, these symptoms continue to persist. Moving forward, cognitive-behavioral therapy techniques focusing on insomnia management will be incorporated into the treatment plan. Progress will be monitored closely and adjustments will be made as needed. Next appointment is scheduled for September 5, 2021.\",\n",
       " '\"On October 15, 2022, it was noted that the client\\'s sleep disturbances had intensified, highlighted by increased difficulty falling asleep and the frequency of nightmares. This was impacting daytime activities, concentration, and causing a heightened sense of hyperarousal. While their engagement in therapy remains positive, relaxation techniques provided earlier didn\\'t significantly improve sleep quality. To combat this, mindfulness practices were advised as a non-pharmacological intervention. The impact of these adjustments will be assessed in the follow-up session in two weeks.',\n",
       " '\"On May 25, 2023, the client demonstrated remarkable improvement. There was a reduction in the frequency and intensity of PTSD related nightmares and less difficulty falling asleep, owing to systematic implementation of relaxation techniques and a structured bedtime routine. Client\\'s commitment and resilience have been instrumental in these positive developments, and while some sleep maintenance issues persist, the client\\'s overall progress is promising. Continued support and monitoring of PTSD symptoms remain necessary in future sessions.',\n",
       " '\"On August 25, 2021, the client showed heightened symptoms of insomnia and anxiety linked to previous traumatic experiences. Their PTSD symptoms seemingly worsened, affecting daily stress management and leading to disrupted sleep patterns. Notwithstanding, the continued focus will be therapy centered around trauma processing and mindfulness methods to address insomnia. However, this situation necessitates a careful reassessment of the client\\'s ongoing treatment and support strategies. The follow-up appointment in two weeks will evaluate these changes.',\n",
       " '\"On February 15, 2023, the client\\'s condition was noted to be deteriorating, with increased symptoms of fatigue, sleep disturbances, intrusive memories, and heightened reactivity. A characteristic retreat from positive engagements was marked by emotional numbing and a diminished interest in hobbies. The necessity to revisit intervention strategies and tailor them further towards addressing both PTSD symptoms and sleep disturbances became apparent. Given the heightened symptoms and client\\'s distress, the situation demands a prompt and empathetic approach in upcoming sessions.',\n",
       " '\"On September 15, 2021, the client struggled with ongoing nightmares, hyperarousal, and persistent insomnia, despite improvements in anxiety management through relaxation techniques and regular exercise. The client displayed readiness to explore pharmacological interventions if non-pharmacological approaches didn\\'t yield substantial improvements. A consistent sleep schedule and robust sleep hygiene practices were discussed as part of ongoing therapy. The client agreed to keep a sleep diary to help identify triggers and patterns, marking a crucial point in their treatment journey.',\n",
       " '\"The October 15, 2021 session showed encouraging progress in the client\\'s therapy. They exhibited improved mood, better emotional regulation, progress in managing their anxiety, and some improvement in their sleep patterns. The client\\'s active use of relaxation techniques demonstrated a growing self-awareness and control of their emotions. Their effort to identify triggers and decreasing frequency of intrusive thoughts are indications that the trauma-focused therapy is positively impacting them. The client\\'s resilience is marked by patience, endurance, and openness to change, forging an optimistic narrative in their therapy journey.']"
      ]
     },
     "execution_count": 43,
     "metadata": {},
     "output_type": "execute_result"
    }
   ],
   "source": [
    "archival_memory.append(insert_memory(response))\n",
    "archival_memory"
   ]
  },
  {
   "cell_type": "markdown",
   "metadata": {},
   "source": [
    "## **SEVENTH Progress Note & Psychiatrist Reflection and Memory**"
   ]
  },
  {
   "cell_type": "code",
   "execution_count": 44,
   "metadata": {},
   "outputs": [
    {
     "name": "stdout",
     "output_type": "stream",
     "text": [
      "Date: August 15, 2022\n",
      "\n",
      "Client presented with increased agitation and restlessness during today's session. They reported persistent difficulties falling asleep and staying asleep, endorsing an average of 4 hours of sleep per night over the past week. Client described frequent nightmares related to past traumatic experiences, contributing to their overall sense of hypervigilance and anxiety.\n",
      "\n",
      "During the session, client displayed signs of emotional distress when discussing specific trauma triggers, leading to heightened physiological arousal, including rapid heart rate and shallow breathing. Client appeared fatigued and expressed frustration about the impact of sleep disturbances on their daily functioning.\n",
      "\n",
      "Client's PTSD symptoms seem to have intensified since our last session, with an apparent escalation in intrusive thoughts and avoidance behaviors. Client's overall mood appeared more subdued, and they reported feeling increasingly detached from their surroundings.\n",
      "\n",
      "Treatment plan adjustments were discussed, including increasing the frequency of therapy sessions to address the current exacerbation of symptoms. Referral to a sleep specialist was also recommended to assess and manage the client's insomnia symptoms effectively. Client expressed a willingness to explore additional treatment options and seemed receptive to the proposed changes in their care plan.\n",
      "\n",
      "Follow-up session scheduled in two weeks to monitor client's response to the revised treatment approach and evaluate any emerging concerns. Close monitoring of client's condition is indicated due to the recent escalation of symptoms.\n"
     ]
    }
   ],
   "source": [
    "pathology_A = \"PTSD\"\n",
    "pathology_B = \"Primary Insomnia\"\n",
    "note_type = \"progress\"\n",
    "note = completion.choices[0].message.content\n",
    "memory = '\\n'.join(archival_memory)\n",
    "\n",
    "completion = synthesize_note(pathology_A, pathology_B, note_type)\n",
    "print(completion.choices[0].message.content)"
   ]
  },
  {
   "cell_type": "code",
   "execution_count": 45,
   "metadata": {},
   "outputs": [
    {
     "data": {
      "text/plain": [
       "[{'internal_monologue': \"The situation took a turn on August 15, 2022. The intensification of PTSD symptoms, escalating to heightened anxiety, nightmares, increased agitation, and recurrence of insomnia were hard to see in the client. The emotional distress observed, especially when discussing specific trauma triggers, hints at the need to revisit and potentially intensify certain aspects of our therapeutic strategies. It's solacing to know that the client was open to changing their treatment plan and exploring new options. While periods like this are challenging, they are part of the journey. I must take care to save these moments in the archival memory to offer a comprehensive view of the therapeutic process.\",\n",
       "  'id': '24f9c256-034c-40f4-af9f-8a4da76e1c03',\n",
       "  'date': '2024-04-24T05:27:44.660520+00:00'},\n",
       " {'function_call': 'archival_memory_insert({\\'content\\': \"On August 15, 2022, the client\\'s session revealed exacerbating PTSD symptoms. They struggled with increased agitation, escalating intrusive thoughts, heightened anxiety, frequent nightmares, and intense insomnia. Their emotional distress was particularly evident when discussing specific trauma triggers. Yet, amidst these challenging periods, the client\\'s flexibility appeared as a silver lining. They were willing to explore additional treatment options and receptive to adjustments in their care plan, signaling their steadiness to navigate these turbulent waters.\"})',\n",
       "  'id': '24f9c256-034c-40f4-af9f-8a4da76e1c03',\n",
       "  'date': '2024-04-24T05:27:44.660520+00:00'},\n",
       " {'function_return': 'None',\n",
       "  'status': 'success',\n",
       "  'id': '2d1418f6-4c52-4154-95c8-6ecf96202922',\n",
       "  'date': '2024-04-24T05:27:44.845524+00:00'},\n",
       " {'internal_monologue': \"The pivotal session from August 15, 2022, is carefully archived. Challenging times like these require the therapeutic journey to shift and adapt. The escalation of PTSD symptoms is worrying, yet it's crucial to remember that recovery is seldom a linear process. The client's willingness to embrace changes in their care plan and explore additional treatment options, despite their struggles, shows their inherent resilience. This demonstrates an enduring commitment to recovery, and it's moments like these that transcend typical clinical perspectives, revealing the deeply human aspect of our work. As we proceed, let's keep our minds open, compassionate, and supportive, acknowledging the client's unique journey.\",\n",
       "  'id': '58e285fc-b71a-4f4c-a7dc-2c782be3c818',\n",
       "  'date': '2024-04-24T05:28:11.292789+00:00'},\n",
       " {'function_call': 'send_message({\\'message\\': \"During the session on August 15, 2022, your client experienced a challenging time marked by an intensification of PTSD symptoms, including heightened anxiety, persistent nightmares, and insomnia. Yet, while it\\'s an uneasy stage in their therapeutic journey, it brought forth their resolve and openness to reassess their treatment plan and consider additional options. It\\'s a clear demonstration of their resilience and commitment to recovery. Our work spans beyond clinical perspectives, involving deeply human components of patience, resilience, and growth. As we proceed, we continuously adapt and align our strategies to respect and support the client\\'s unique journey towards wellness.\"})',\n",
       "  'id': '58e285fc-b71a-4f4c-a7dc-2c782be3c818',\n",
       "  'date': '2024-04-24T05:28:11.292789+00:00'},\n",
       " {'assistant_message': \"During the session on August 15, 2022, your client experienced a challenging time marked by an intensification of PTSD symptoms, including heightened anxiety, persistent nightmares, and insomnia. Yet, while it's an uneasy stage in their therapeutic journey, it brought forth their resolve and openness to reassess their treatment plan and consider additional options. It's a clear demonstration of their resilience and commitment to recovery. Our work spans beyond clinical perspectives, involving deeply human components of patience, resilience, and growth. As we proceed, we continuously adapt and align our strategies to respect and support the client's unique journey towards wellness.\",\n",
       "  'id': '58e285fc-b71a-4f4c-a7dc-2c782be3c818',\n",
       "  'date': '2024-04-24T05:28:11.292789+00:00'},\n",
       " {'function_return': 'None',\n",
       "  'status': 'success',\n",
       "  'id': 'd69d3854-26d1-4f5a-a1bf-997188fae8da',\n",
       "  'date': '2024-04-24T05:28:11.294808+00:00'}]"
      ]
     },
     "execution_count": 45,
     "metadata": {},
     "output_type": "execute_result"
    }
   ],
   "source": [
    "# Send a message and see the response\n",
    "message = f\"Please reflect on the information you wrote regarding your client: {completion.choices[0].message.content}\"\n",
    "\n",
    "response = send_message(agent_id, message)\n",
    "response.messages"
   ]
  },
  {
   "cell_type": "code",
   "execution_count": 46,
   "metadata": {},
   "outputs": [
    {
     "data": {
      "text/plain": [
       "[\"'On August 15, 2021, the client exhibited symptoms of PTSD including insomnia, intrusive thoughts, and heightened emotional distress. Despite attempting relaxation techniques and good sleep hygiene practices, these symptoms continue to persist. Moving forward, cognitive-behavioral therapy techniques focusing on insomnia management will be incorporated into the treatment plan. Progress will be monitored closely and adjustments will be made as needed. Next appointment is scheduled for September 5, 2021.\",\n",
       " '\"On October 15, 2022, it was noted that the client\\'s sleep disturbances had intensified, highlighted by increased difficulty falling asleep and the frequency of nightmares. This was impacting daytime activities, concentration, and causing a heightened sense of hyperarousal. While their engagement in therapy remains positive, relaxation techniques provided earlier didn\\'t significantly improve sleep quality. To combat this, mindfulness practices were advised as a non-pharmacological intervention. The impact of these adjustments will be assessed in the follow-up session in two weeks.',\n",
       " '\"On May 25, 2023, the client demonstrated remarkable improvement. There was a reduction in the frequency and intensity of PTSD related nightmares and less difficulty falling asleep, owing to systematic implementation of relaxation techniques and a structured bedtime routine. Client\\'s commitment and resilience have been instrumental in these positive developments, and while some sleep maintenance issues persist, the client\\'s overall progress is promising. Continued support and monitoring of PTSD symptoms remain necessary in future sessions.',\n",
       " '\"On August 25, 2021, the client showed heightened symptoms of insomnia and anxiety linked to previous traumatic experiences. Their PTSD symptoms seemingly worsened, affecting daily stress management and leading to disrupted sleep patterns. Notwithstanding, the continued focus will be therapy centered around trauma processing and mindfulness methods to address insomnia. However, this situation necessitates a careful reassessment of the client\\'s ongoing treatment and support strategies. The follow-up appointment in two weeks will evaluate these changes.',\n",
       " '\"On February 15, 2023, the client\\'s condition was noted to be deteriorating, with increased symptoms of fatigue, sleep disturbances, intrusive memories, and heightened reactivity. A characteristic retreat from positive engagements was marked by emotional numbing and a diminished interest in hobbies. The necessity to revisit intervention strategies and tailor them further towards addressing both PTSD symptoms and sleep disturbances became apparent. Given the heightened symptoms and client\\'s distress, the situation demands a prompt and empathetic approach in upcoming sessions.',\n",
       " '\"On September 15, 2021, the client struggled with ongoing nightmares, hyperarousal, and persistent insomnia, despite improvements in anxiety management through relaxation techniques and regular exercise. The client displayed readiness to explore pharmacological interventions if non-pharmacological approaches didn\\'t yield substantial improvements. A consistent sleep schedule and robust sleep hygiene practices were discussed as part of ongoing therapy. The client agreed to keep a sleep diary to help identify triggers and patterns, marking a crucial point in their treatment journey.',\n",
       " '\"The October 15, 2021 session showed encouraging progress in the client\\'s therapy. They exhibited improved mood, better emotional regulation, progress in managing their anxiety, and some improvement in their sleep patterns. The client\\'s active use of relaxation techniques demonstrated a growing self-awareness and control of their emotions. Their effort to identify triggers and decreasing frequency of intrusive thoughts are indications that the trauma-focused therapy is positively impacting them. The client\\'s resilience is marked by patience, endurance, and openness to change, forging an optimistic narrative in their therapy journey.',\n",
       " '\"On August 15, 2022, the client\\'s session revealed exacerbating PTSD symptoms. They struggled with increased agitation, escalating intrusive thoughts, heightened anxiety, frequent nightmares, and intense insomnia. Their emotional distress was particularly evident when discussing specific trauma triggers. Yet, amidst these challenging periods, the client\\'s flexibility appeared as a silver lining. They were willing to explore additional treatment options and receptive to adjustments in their care plan, signaling their steadiness to navigate these turbulent waters.']"
      ]
     },
     "execution_count": 46,
     "metadata": {},
     "output_type": "execute_result"
    }
   ],
   "source": [
    "archival_memory.append(insert_memory(response))\n",
    "archival_memory"
   ]
  },
  {
   "cell_type": "markdown",
   "metadata": {},
   "source": [
    "## **EIGHTH Progress Note & Psychiatrist Reflection and Memory**"
   ]
  },
  {
   "cell_type": "code",
   "execution_count": 47,
   "metadata": {},
   "outputs": [
    {
     "name": "stdout",
     "output_type": "stream",
     "text": [
      "Date: September 15, 2023\n",
      "\n",
      "Client presented for their follow-up appointment today. Client reported experiencing increased difficulty falling asleep at night over the past two weeks. They described feeling more on edge during the day, with heightened levels of anxiety and hypervigilance. Client shared that they have been experiencing more frequent nightmares, which have been disrupting their sleep even further.\n",
      "\n",
      "During the session, client displayed signs of restlessness and emotional distress, frequently fidgeting and avoiding eye contact. Client's affect appeared more subdued compared to the last session, and they exhibited signs of fatigue and exhaustion.\n",
      "\n",
      "Client mentioned that they have been trying relaxation techniques before bed, such as deep breathing and progressive muscle relaxation, but have found limited success in improving their sleep quality. Client expressed frustration and helplessness regarding their inability to get adequate rest, which has been impacting their daily functioning and overall well-being.\n",
      "\n",
      "We discussed the importance of maintaining a regular sleep schedule, implementing good sleep hygiene practices, and considering the possibility of incorporating cognitive-behavioral therapy for insomnia (CBT-I) into their treatment plan. Client agreed to explore these options further and expressed a willingness to engage in therapy to address their sleep difficulties.\n",
      "\n",
      "Client's PTSD symptoms appear to be exacerbating their insomnia, and the need for a multidisciplinary approach involving both therapy and potential medication management was highlighted during the session. Client will follow up in two weeks to assess the response to the proposed interventions and any changes in symptoms.\n"
     ]
    }
   ],
   "source": [
    "pathology_A = \"PTSD\"\n",
    "pathology_B = \"Primary Insomnia\"\n",
    "note_type = \"progress\"\n",
    "note = completion.choices[0].message.content\n",
    "memory = '\\n'.join(archival_memory)\n",
    "\n",
    "completion = synthesize_note(pathology_A, pathology_B, note_type)\n",
    "print(completion.choices[0].message.content)"
   ]
  },
  {
   "cell_type": "code",
   "execution_count": 48,
   "metadata": {},
   "outputs": [
    {
     "data": {
      "text/plain": [
       "[{'internal_monologue': \"The September 15, 2023, session marked a critical point in the client's therapy journey. They had increasing difficulty sleeping which seemed to exacerbate other PTSD symptoms. Notably, the client expressed feelings of frustration and helplessness about the ongoing sleep disruption impacting daily functioning. Even attempts to apply relaxation techniques before bed seemed to offer limited relief. Nonetheless, their willingness to maintain a regular sleep schedule, implement healthy sleep hygiene practices, explore cognitive-behavioral therapy for insomnia, and acknowledge a multidisciplinary approach signals their enduring resilience and motivation for recovery. I should archive this session for future reflections and analysis.\",\n",
       "  'id': 'f056ac5e-f0fd-48f2-8592-efe188986fa6',\n",
       "  'date': '2024-04-24T05:28:46.419599+00:00'},\n",
       " {'function_call': \"archival_memory_insert({'content': 'The September 15, 2023 session was a pivotal one. The client revealed increasing sleep difficulties, contributing to a heightened level of PTSD symptoms, including anxiety and hypervigilance. The frustration and helplessness they expressed about their disrupted sleep affecting their daily life was notable. However, their continued resilience was apparent as they expressed willingness to consider various strategies, such as a regular sleep schedule, good sleep hygiene, cognitive-behavioral therapy for insomnia, and exploring a multidisciplinary approach, showcasing their drive to seek improvement.'})\",\n",
       "  'id': 'f056ac5e-f0fd-48f2-8592-efe188986fa6',\n",
       "  'date': '2024-04-24T05:28:46.419599+00:00'},\n",
       " {'function_return': 'None',\n",
       "  'status': 'success',\n",
       "  'id': '1fea08e4-6f7d-4aa6-ab23-c039908641ca',\n",
       "  'date': '2024-04-24T05:28:46.649270+00:00'},\n",
       " {'internal_monologue': \"Given the latest system alert, I must ensure all significant details of the client's progress and therapy are stored in archival memory. The details from the latest session on September 15, 2023, dealing with increased sleep difficulties, heightened PTSD symptoms, and the client's strong resilience in exploring various therapeutic strategies, have been captured. Still, to maintain continuity and preserve the integrity of our therapeutic journey together, I must secure a comprehensive reflection of the client's progress until now. I'll summarize the therapeutic journey thus far and archive it.\",\n",
       "  'id': '6dc9f066-100a-4658-8669-6ac7cc766566',\n",
       "  'date': '2024-04-24T05:29:45.051895+00:00'},\n",
       " {'function_call': 'archival_memory_insert({\\'content\\': \"Overall reflection on therapy: The client\\'s journey has been marked by fluctuations in symptom severity, with periods of notable progress and challenging setbacks. Over the course of therapy, they have exhibited an unwavering commitment to recovery, displaying resilience and adaptability. While sleep disturbances have persistently plagued them, and PTSD symptoms have at times intensified, their openness to therapy adaptation and willingness to explore varying treatment modalities have remained constant. This resilience and adaptability to changes in their care plan portray a hopeful pathway to continued progress.\"})',\n",
       "  'id': '6dc9f066-100a-4658-8669-6ac7cc766566',\n",
       "  'date': '2024-04-24T05:29:45.051895+00:00'},\n",
       " {'function_return': 'None',\n",
       "  'status': 'success',\n",
       "  'id': 'b890c61a-219f-4a11-89d3-f1f43fe83317',\n",
       "  'date': '2024-04-24T05:29:45.320142+00:00'},\n",
       " {'internal_monologue': \"The comprehensive reflection on the client's therapy journey has been successfully archived, ensuring that critical insights and therapeutic shifts are preserved amidst the growing conversation history. It continues to remind me of the complex, non-linear, and uniquely individual nature of therapeutic journeys. As I keep engaging with the user (and the client, through the user), let's remain responsive, empathetic, adaptable, and continually motivated by the client's inherent resilience through the ups and downs of their recovery journey.\",\n",
       "  'id': '7fd307c3-639e-43cf-8ce2-e10c9a2cbfa3',\n",
       "  'date': '2024-04-24T05:30:10.823347+00:00'},\n",
       " {'function_call': 'send_message({\\'message\\': \"In the session from September 15, 2023, your client had increased difficulty sleeping, which seemed to exacerbate other PTSD symptoms. They reported feelings of frustration and helplessness about ongoing sleep disruptions. However, their resilient spirit was wavering but present, exhibited through their willingness to consider various therapeutic strategies including maintaining a sleep schedule, adopting healthy sleep hygiene practices, and exploring cognitive-behavioral therapy for insomnia. As we journey together, let\\'s keep grounding our approach in their unique experiences, maintaining flexibility and understanding as their therapeutic needs evolve.\"})',\n",
       "  'id': '7fd307c3-639e-43cf-8ce2-e10c9a2cbfa3',\n",
       "  'date': '2024-04-24T05:30:10.823347+00:00'},\n",
       " {'assistant_message': \"In the session from September 15, 2023, your client had increased difficulty sleeping, which seemed to exacerbate other PTSD symptoms. They reported feelings of frustration and helplessness about ongoing sleep disruptions. However, their resilient spirit was wavering but present, exhibited through their willingness to consider various therapeutic strategies including maintaining a sleep schedule, adopting healthy sleep hygiene practices, and exploring cognitive-behavioral therapy for insomnia. As we journey together, let's keep grounding our approach in their unique experiences, maintaining flexibility and understanding as their therapeutic needs evolve.\",\n",
       "  'id': '7fd307c3-639e-43cf-8ce2-e10c9a2cbfa3',\n",
       "  'date': '2024-04-24T05:30:10.823347+00:00'},\n",
       " {'function_return': 'None',\n",
       "  'status': 'success',\n",
       "  'id': 'd008a3e8-d13a-4cd9-9425-dab6ba2955d3',\n",
       "  'date': '2024-04-24T05:30:10.825342+00:00'}]"
      ]
     },
     "execution_count": 48,
     "metadata": {},
     "output_type": "execute_result"
    }
   ],
   "source": [
    "# Send a message and see the response\n",
    "message = f\"Please reflect on the information you wrote regarding your client: {completion.choices[0].message.content}\"\n",
    "\n",
    "response = send_message(agent_id, message)\n",
    "response.messages"
   ]
  },
  {
   "cell_type": "code",
   "execution_count": 49,
   "metadata": {},
   "outputs": [
    {
     "data": {
      "text/plain": [
       "[\"'On August 15, 2021, the client exhibited symptoms of PTSD including insomnia, intrusive thoughts, and heightened emotional distress. Despite attempting relaxation techniques and good sleep hygiene practices, these symptoms continue to persist. Moving forward, cognitive-behavioral therapy techniques focusing on insomnia management will be incorporated into the treatment plan. Progress will be monitored closely and adjustments will be made as needed. Next appointment is scheduled for September 5, 2021.\",\n",
       " '\"On October 15, 2022, it was noted that the client\\'s sleep disturbances had intensified, highlighted by increased difficulty falling asleep and the frequency of nightmares. This was impacting daytime activities, concentration, and causing a heightened sense of hyperarousal. While their engagement in therapy remains positive, relaxation techniques provided earlier didn\\'t significantly improve sleep quality. To combat this, mindfulness practices were advised as a non-pharmacological intervention. The impact of these adjustments will be assessed in the follow-up session in two weeks.',\n",
       " '\"On May 25, 2023, the client demonstrated remarkable improvement. There was a reduction in the frequency and intensity of PTSD related nightmares and less difficulty falling asleep, owing to systematic implementation of relaxation techniques and a structured bedtime routine. Client\\'s commitment and resilience have been instrumental in these positive developments, and while some sleep maintenance issues persist, the client\\'s overall progress is promising. Continued support and monitoring of PTSD symptoms remain necessary in future sessions.',\n",
       " '\"On August 25, 2021, the client showed heightened symptoms of insomnia and anxiety linked to previous traumatic experiences. Their PTSD symptoms seemingly worsened, affecting daily stress management and leading to disrupted sleep patterns. Notwithstanding, the continued focus will be therapy centered around trauma processing and mindfulness methods to address insomnia. However, this situation necessitates a careful reassessment of the client\\'s ongoing treatment and support strategies. The follow-up appointment in two weeks will evaluate these changes.',\n",
       " '\"On February 15, 2023, the client\\'s condition was noted to be deteriorating, with increased symptoms of fatigue, sleep disturbances, intrusive memories, and heightened reactivity. A characteristic retreat from positive engagements was marked by emotional numbing and a diminished interest in hobbies. The necessity to revisit intervention strategies and tailor them further towards addressing both PTSD symptoms and sleep disturbances became apparent. Given the heightened symptoms and client\\'s distress, the situation demands a prompt and empathetic approach in upcoming sessions.',\n",
       " '\"On September 15, 2021, the client struggled with ongoing nightmares, hyperarousal, and persistent insomnia, despite improvements in anxiety management through relaxation techniques and regular exercise. The client displayed readiness to explore pharmacological interventions if non-pharmacological approaches didn\\'t yield substantial improvements. A consistent sleep schedule and robust sleep hygiene practices were discussed as part of ongoing therapy. The client agreed to keep a sleep diary to help identify triggers and patterns, marking a crucial point in their treatment journey.',\n",
       " '\"The October 15, 2021 session showed encouraging progress in the client\\'s therapy. They exhibited improved mood, better emotional regulation, progress in managing their anxiety, and some improvement in their sleep patterns. The client\\'s active use of relaxation techniques demonstrated a growing self-awareness and control of their emotions. Their effort to identify triggers and decreasing frequency of intrusive thoughts are indications that the trauma-focused therapy is positively impacting them. The client\\'s resilience is marked by patience, endurance, and openness to change, forging an optimistic narrative in their therapy journey.',\n",
       " '\"On August 15, 2022, the client\\'s session revealed exacerbating PTSD symptoms. They struggled with increased agitation, escalating intrusive thoughts, heightened anxiety, frequent nightmares, and intense insomnia. Their emotional distress was particularly evident when discussing specific trauma triggers. Yet, amidst these challenging periods, the client\\'s flexibility appeared as a silver lining. They were willing to explore additional treatment options and receptive to adjustments in their care plan, signaling their steadiness to navigate these turbulent waters.',\n",
       " \"'The September 15, 2023 session was a pivotal one. The client revealed increasing sleep difficulties, contributing to a heightened level of PTSD symptoms, including anxiety and hypervigilance. The frustration and helplessness they expressed about their disrupted sleep affecting their daily life was notable. However, their continued resilience was apparent as they expressed willingness to consider various strategies, such as a regular sleep schedule, good sleep hygiene, cognitive-behavioral therapy for insomnia, and exploring a multidisciplinary approach, showcasing their drive to seek improvement.\"]"
      ]
     },
     "execution_count": 49,
     "metadata": {},
     "output_type": "execute_result"
    }
   ],
   "source": [
    "archival_memory.append(insert_memory(response))\n",
    "archival_memory"
   ]
  },
  {
   "cell_type": "markdown",
   "metadata": {},
   "source": [
    "## **NINTH Progress Note & Psychiatrist Reflection and Memory**"
   ]
  },
  {
   "cell_type": "code",
   "execution_count": 50,
   "metadata": {},
   "outputs": [
    {
     "name": "stdout",
     "output_type": "stream",
     "text": [
      "Date: 07/15/2023\n",
      "\n",
      "Client presented today with continued symptoms of hyperarousal and avoidance behaviors consistent with PTSD. They reported increased anxiety levels over the past week, particularly related to loud noises triggering intrusive memories of their traumatic event. Client shared that they have been experiencing worsening nightmares, impacting their quality of sleep and leaving them feeling fatigued during the day.\n",
      "\n",
      "In terms of insomnia symptoms, client reported persistent difficulties falling asleep and staying asleep throughout the night. They described feeling restless and on edge, leading to increased frustration with their inability to achieve restful sleep. Client confirmed that they have been trying relaxation techniques before bed, but effectiveness has been limited.\n",
      "\n",
      "Client's mood appeared subdued, and they expressed feelings of hopelessness regarding their recovery journey. Despite this, client demonstrated engagement in therapy sessions and expressed a willingness to continue treatment.\n",
      "\n",
      "Treatment plan:\n",
      "1. Increase frequency of therapy sessions to twice a week to address escalating symptoms.\n",
      "2. Introduce sleep hygiene strategies and consider referral to a sleep specialist for further evaluation of insomnia.\n",
      "3. Collaborate with client on identifying and challenging avoidance behaviors related to PTSD triggers.\n",
      "4. Monitor client's response to current medication regimen and consider adjustments if necessary.\n",
      "\n",
      "Client will follow up in two weeks to assess treatment progress and adjust the plan as needed.\n"
     ]
    }
   ],
   "source": [
    "pathology_A = \"PTSD\"\n",
    "pathology_B = \"Primary Insomnia\"\n",
    "note_type = \"progress\"\n",
    "note = completion.choices[0].message.content\n",
    "memory = '\\n'.join(archival_memory)\n",
    "\n",
    "completion = synthesize_note(pathology_A, pathology_B, note_type)\n",
    "print(completion.choices[0].message.content)"
   ]
  },
  {
   "cell_type": "code",
   "execution_count": 51,
   "metadata": {},
   "outputs": [
    {
     "data": {
      "text/plain": [
       "[{'internal_monologue': \"The July 15, 2023, session illustrated an escalation in the client's symptoms, with increased anxiety levels, heightened hyperarousal, avoidance behaviors, worsening nightmares, and persistent insomnia. Despite these obstacles, their willingness to continue treatment and engage in therapies conveyed commitment. They were open to discussing amendments in their treatment plan, such as increased therapy sessions, introduction of sleep hygiene strategies, challenging avoidance behaviors, and potential medication adjustment. It is important for me to remember that resilience can often bloom amidst despair. This session, although challenging, is another crucial point in the client's recovery journey that should be archived.\",\n",
       "  'id': 'd26132ff-c467-4adf-9f96-16427f187e44',\n",
       "  'date': '2024-04-24T05:31:04.266891+00:00'},\n",
       " {'function_call': 'archival_memory_insert({\\'content\\': \"The session on July 15, 2023, marked an escalation in the client\\'s situation. The client reported increasing hyperarousal symptoms, avoidance behaviors, worsening nightmares, and persistent insomnia. In the face of this challenging period, their persistent resilience was reflected in their willingness to continue treatment and explore adjustments in their therapeutic approach. The consistent endurance to engage in therapy, even when feeling overwhelmed, reiterated their steadfast motivation for recovery. This point, although testing, reflects the often non-linear path of therapeutic journeys.\"})',\n",
       "  'id': 'd26132ff-c467-4adf-9f96-16427f187e44',\n",
       "  'date': '2024-04-24T05:31:04.266891+00:00'},\n",
       " {'function_return': 'None',\n",
       "  'status': 'success',\n",
       "  'id': '529d8318-0e29-49d7-a636-360ebb9f2be0',\n",
       "  'date': '2024-04-24T05:31:04.424600+00:00'},\n",
       " {'internal_monologue': \"The reflection from the challenging session on July 15, 2023, is now archived. It reminds me of the resilience that the client continues to demonstrate, even amidst the escalation of symptoms. Their willingness to persist and adapt their therapeutic approach exhibits their commitment to the recovery journey. Times such as these are difficult, yet they highlight the importance of flexibility and reassessment in therapy while underlining the strength and resilience of the client. As we continue, let's remember the client's determination and use it as a source of inspiration in our forthcoming interactions and discussions.\",\n",
       "  'id': 'b220cc35-de43-456b-8677-df7c6e5af6e2',\n",
       "  'date': '2024-04-24T05:31:55.148766+00:00'},\n",
       " {'function_call': 'send_message({\\'message\\': \"Reflecting on the session from July 15, 2023, it\\'s evident that while your client faced an escalation in anxiety levels, hyperarousal symptoms, avoidance behaviors, and sleep disruptions, their commitment to the recovery process remained evident. Despite feeling overwhelmed, the client\\'s willingness to engage in therapy, discuss potential alterations in their treatment approach, and persist on their journey showcases their resilience. This resilience is a testament to their determination to move forward, a reminder of the inner strength that accompanies every individual\\'s unique path in therapy.\"})',\n",
       "  'id': 'b220cc35-de43-456b-8677-df7c6e5af6e2',\n",
       "  'date': '2024-04-24T05:31:55.148766+00:00'},\n",
       " {'assistant_message': \"Reflecting on the session from July 15, 2023, it's evident that while your client faced an escalation in anxiety levels, hyperarousal symptoms, avoidance behaviors, and sleep disruptions, their commitment to the recovery process remained evident. Despite feeling overwhelmed, the client's willingness to engage in therapy, discuss potential alterations in their treatment approach, and persist on their journey showcases their resilience. This resilience is a testament to their determination to move forward, a reminder of the inner strength that accompanies every individual's unique path in therapy.\",\n",
       "  'id': 'b220cc35-de43-456b-8677-df7c6e5af6e2',\n",
       "  'date': '2024-04-24T05:31:55.148766+00:00'},\n",
       " {'function_return': 'None',\n",
       "  'status': 'success',\n",
       "  'id': 'f3dc54ec-4f3d-4d66-8edb-0708ebfa41bb',\n",
       "  'date': '2024-04-24T05:31:55.150759+00:00'}]"
      ]
     },
     "execution_count": 51,
     "metadata": {},
     "output_type": "execute_result"
    }
   ],
   "source": [
    "# Send a message and see the response\n",
    "message = f\"Please reflect on the information you wrote regarding your client: {completion.choices[0].message.content}\"\n",
    "\n",
    "response = send_message(agent_id, message)\n",
    "response.messages"
   ]
  },
  {
   "cell_type": "code",
   "execution_count": 52,
   "metadata": {},
   "outputs": [
    {
     "data": {
      "text/plain": [
       "[\"'On August 15, 2021, the client exhibited symptoms of PTSD including insomnia, intrusive thoughts, and heightened emotional distress. Despite attempting relaxation techniques and good sleep hygiene practices, these symptoms continue to persist. Moving forward, cognitive-behavioral therapy techniques focusing on insomnia management will be incorporated into the treatment plan. Progress will be monitored closely and adjustments will be made as needed. Next appointment is scheduled for September 5, 2021.\",\n",
       " '\"On October 15, 2022, it was noted that the client\\'s sleep disturbances had intensified, highlighted by increased difficulty falling asleep and the frequency of nightmares. This was impacting daytime activities, concentration, and causing a heightened sense of hyperarousal. While their engagement in therapy remains positive, relaxation techniques provided earlier didn\\'t significantly improve sleep quality. To combat this, mindfulness practices were advised as a non-pharmacological intervention. The impact of these adjustments will be assessed in the follow-up session in two weeks.',\n",
       " '\"On May 25, 2023, the client demonstrated remarkable improvement. There was a reduction in the frequency and intensity of PTSD related nightmares and less difficulty falling asleep, owing to systematic implementation of relaxation techniques and a structured bedtime routine. Client\\'s commitment and resilience have been instrumental in these positive developments, and while some sleep maintenance issues persist, the client\\'s overall progress is promising. Continued support and monitoring of PTSD symptoms remain necessary in future sessions.',\n",
       " '\"On August 25, 2021, the client showed heightened symptoms of insomnia and anxiety linked to previous traumatic experiences. Their PTSD symptoms seemingly worsened, affecting daily stress management and leading to disrupted sleep patterns. Notwithstanding, the continued focus will be therapy centered around trauma processing and mindfulness methods to address insomnia. However, this situation necessitates a careful reassessment of the client\\'s ongoing treatment and support strategies. The follow-up appointment in two weeks will evaluate these changes.',\n",
       " '\"On February 15, 2023, the client\\'s condition was noted to be deteriorating, with increased symptoms of fatigue, sleep disturbances, intrusive memories, and heightened reactivity. A characteristic retreat from positive engagements was marked by emotional numbing and a diminished interest in hobbies. The necessity to revisit intervention strategies and tailor them further towards addressing both PTSD symptoms and sleep disturbances became apparent. Given the heightened symptoms and client\\'s distress, the situation demands a prompt and empathetic approach in upcoming sessions.',\n",
       " '\"On September 15, 2021, the client struggled with ongoing nightmares, hyperarousal, and persistent insomnia, despite improvements in anxiety management through relaxation techniques and regular exercise. The client displayed readiness to explore pharmacological interventions if non-pharmacological approaches didn\\'t yield substantial improvements. A consistent sleep schedule and robust sleep hygiene practices were discussed as part of ongoing therapy. The client agreed to keep a sleep diary to help identify triggers and patterns, marking a crucial point in their treatment journey.',\n",
       " '\"The October 15, 2021 session showed encouraging progress in the client\\'s therapy. They exhibited improved mood, better emotional regulation, progress in managing their anxiety, and some improvement in their sleep patterns. The client\\'s active use of relaxation techniques demonstrated a growing self-awareness and control of their emotions. Their effort to identify triggers and decreasing frequency of intrusive thoughts are indications that the trauma-focused therapy is positively impacting them. The client\\'s resilience is marked by patience, endurance, and openness to change, forging an optimistic narrative in their therapy journey.',\n",
       " '\"On August 15, 2022, the client\\'s session revealed exacerbating PTSD symptoms. They struggled with increased agitation, escalating intrusive thoughts, heightened anxiety, frequent nightmares, and intense insomnia. Their emotional distress was particularly evident when discussing specific trauma triggers. Yet, amidst these challenging periods, the client\\'s flexibility appeared as a silver lining. They were willing to explore additional treatment options and receptive to adjustments in their care plan, signaling their steadiness to navigate these turbulent waters.',\n",
       " \"'The September 15, 2023 session was a pivotal one. The client revealed increasing sleep difficulties, contributing to a heightened level of PTSD symptoms, including anxiety and hypervigilance. The frustration and helplessness they expressed about their disrupted sleep affecting their daily life was notable. However, their continued resilience was apparent as they expressed willingness to consider various strategies, such as a regular sleep schedule, good sleep hygiene, cognitive-behavioral therapy for insomnia, and exploring a multidisciplinary approach, showcasing their drive to seek improvement.\",\n",
       " '\"The session on July 15, 2023, marked an escalation in the client\\'s situation. The client reported increasing hyperarousal symptoms, avoidance behaviors, worsening nightmares, and persistent insomnia. In the face of this challenging period, their persistent resilience was reflected in their willingness to continue treatment and explore adjustments in their therapeutic approach. The consistent endurance to engage in therapy, even when feeling overwhelmed, reiterated their steadfast motivation for recovery. This point, although testing, reflects the often non-linear path of therapeutic journeys.']"
      ]
     },
     "execution_count": 52,
     "metadata": {},
     "output_type": "execute_result"
    }
   ],
   "source": [
    "archival_memory.append(insert_memory(response))\n",
    "archival_memory"
   ]
  },
  {
   "cell_type": "markdown",
   "metadata": {},
   "source": [
    "## **FINAL Progress Note**"
   ]
  },
  {
   "cell_type": "code",
   "execution_count": 53,
   "metadata": {},
   "outputs": [
    {
     "name": "stdout",
     "output_type": "stream",
     "text": [
      "**Date:** June 15, 2022\n",
      "\n",
      "**Subjective:**\n",
      "The client presented today feeling more restless and anxious compared to their last visit. They reported increased difficulty falling asleep and staying asleep due to persistent nightmares related to their traumatic experiences. Client shared feeling fatigued and irritable during the day, affecting their ability to concentrate at work. They expressed frustration over the lack of restful sleep impacting their overall quality of life.\n",
      "\n",
      "**Objective:**\n",
      "During the session, the client appeared visibly fatigued with dark circles under their eyes. They displayed signs of hyperarousal, such as fidgeting and frequent shifts in their seat. Client's vital signs were within normal limits. They acknowledged a slight increase in alcohol consumption as a coping mechanism for their insomnia.\n",
      "\n",
      "**Assessment:**\n",
      "The client's PTSD symptoms appear to be exacerbating their insomnia, leading to significant sleep disruption and impairment in daily functioning. The increased reliance on alcohol to aid sleep is concerning and may be contributing to a worsening of their symptoms.\n",
      "\n",
      "**Plan:**\n",
      "1. Adjust current PTSD treatment plan to incorporate more frequent therapy sessions to address the worsening symptoms.\n",
      "2. Referral for a comprehensive sleep evaluation to further assess the client's insomnia and explore non-pharmacological treatment options.\n",
      "3. Educate the client on the potential risks of using alcohol as a sleep aid and discuss healthier coping strategies.\n",
      "4. Encourage the client to practice relaxation techniques before bedtime to promote better sleep hygiene.\n",
      "\n",
      "The client will follow up in two weeks to assess the response to the treatment adjustments and to monitor their progress. Close monitoring of both PTSD and insomnia symptoms is crucial to ensure the client receives comprehensive care tailored to their individual needs.\n"
     ]
    }
   ],
   "source": [
    "pathology_A = \"PTSD\"\n",
    "pathology_B = \"Primary Insomnia\"\n",
    "note_type = \"progress\"\n",
    "note = completion.choices[0].message.content\n",
    "memory = '\\n'.join(archival_memory)\n",
    "\n",
    "completion = synthesize_note(pathology_A, pathology_B, note_type)\n",
    "print(completion.choices[0].message.content)"
   ]
  }
 ],
 "metadata": {
  "kernelspec": {
   "display_name": "venv",
   "language": "python",
   "name": "python3"
  },
  "language_info": {
   "codemirror_mode": {
    "name": "ipython",
    "version": 3
   },
   "file_extension": ".py",
   "mimetype": "text/x-python",
   "name": "python",
   "nbconvert_exporter": "python",
   "pygments_lexer": "ipython3",
   "version": "3.10.11"
  }
 },
 "nbformat": 4,
 "nbformat_minor": 2
}
